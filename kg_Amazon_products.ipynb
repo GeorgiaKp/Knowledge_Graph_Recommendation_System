{
 "cells": [
  {
   "cell_type": "markdown",
   "metadata": {
    "id": "hUYRDWs25E-I"
   },
   "source": [
    "# Knowledge Graph based recommendation system"
   ]
  },
  {
   "cell_type": "markdown",
   "metadata": {
    "id": "eTCHOOhL5k49"
   },
   "source": [
    "## 1. Load dependencies"
   ]
  },
  {
   "cell_type": "code",
   "execution_count": 1,
   "metadata": {
    "colab": {
     "base_uri": "https://localhost:8080/"
    },
    "id": "c_PYdQPBgu4T",
    "outputId": "cbaf4792-e231-4a1a-8674-e466c7c35299"
   },
   "outputs": [
    {
     "name": "stdout",
     "output_type": "stream",
     "text": [
      "\u001b[?25l\r",
      "\u001b[K     |▍                               | 10 kB 8.0 MB/s eta 0:00:01\r",
      "\u001b[K     |▉                               | 20 kB 6.5 MB/s eta 0:00:01\r",
      "\u001b[K     |█▎                              | 30 kB 5.4 MB/s eta 0:00:01\r",
      "\u001b[K     |█▊                              | 40 kB 3.9 MB/s eta 0:00:01\r",
      "\u001b[K     |██▏                             | 51 kB 3.9 MB/s eta 0:00:01\r",
      "\u001b[K     |██▋                             | 61 kB 4.1 MB/s eta 0:00:01\r",
      "\u001b[K     |███                             | 71 kB 4.3 MB/s eta 0:00:01\r",
      "\u001b[K     |███▍                            | 81 kB 4.1 MB/s eta 0:00:01\r",
      "\u001b[K     |███▉                            | 92 kB 4.6 MB/s eta 0:00:01\r",
      "\u001b[K     |████▎                           | 102 kB 4.1 MB/s eta 0:00:01\r",
      "\u001b[K     |████▊                           | 112 kB 4.1 MB/s eta 0:00:01\r",
      "\u001b[K     |█████▏                          | 122 kB 4.1 MB/s eta 0:00:01\r",
      "\u001b[K     |█████▌                          | 133 kB 4.1 MB/s eta 0:00:01\r",
      "\u001b[K     |██████                          | 143 kB 4.1 MB/s eta 0:00:01\r",
      "\u001b[K     |██████▍                         | 153 kB 4.1 MB/s eta 0:00:01\r",
      "\u001b[K     |██████▉                         | 163 kB 4.1 MB/s eta 0:00:01\r",
      "\u001b[K     |███████▎                        | 174 kB 4.1 MB/s eta 0:00:01\r",
      "\u001b[K     |███████▊                        | 184 kB 4.1 MB/s eta 0:00:01\r",
      "\u001b[K     |████████                        | 194 kB 4.1 MB/s eta 0:00:01\r",
      "\u001b[K     |████████▌                       | 204 kB 4.1 MB/s eta 0:00:01\r",
      "\u001b[K     |█████████                       | 215 kB 4.1 MB/s eta 0:00:01\r",
      "\u001b[K     |█████████▍                      | 225 kB 4.1 MB/s eta 0:00:01\r",
      "\u001b[K     |█████████▉                      | 235 kB 4.1 MB/s eta 0:00:01\r",
      "\u001b[K     |██████████▎                     | 245 kB 4.1 MB/s eta 0:00:01\r",
      "\u001b[K     |██████████▋                     | 256 kB 4.1 MB/s eta 0:00:01\r",
      "\u001b[K     |███████████                     | 266 kB 4.1 MB/s eta 0:00:01\r",
      "\u001b[K     |███████████▌                    | 276 kB 4.1 MB/s eta 0:00:01\r",
      "\u001b[K     |████████████                    | 286 kB 4.1 MB/s eta 0:00:01\r",
      "\u001b[K     |████████████▍                   | 296 kB 4.1 MB/s eta 0:00:01\r",
      "\u001b[K     |████████████▉                   | 307 kB 4.1 MB/s eta 0:00:01\r",
      "\u001b[K     |█████████████▏                  | 317 kB 4.1 MB/s eta 0:00:01\r",
      "\u001b[K     |█████████████▋                  | 327 kB 4.1 MB/s eta 0:00:01\r",
      "\u001b[K     |██████████████                  | 337 kB 4.1 MB/s eta 0:00:01\r",
      "\u001b[K     |██████████████▌                 | 348 kB 4.1 MB/s eta 0:00:01\r",
      "\u001b[K     |███████████████                 | 358 kB 4.1 MB/s eta 0:00:01\r",
      "\u001b[K     |███████████████▍                | 368 kB 4.1 MB/s eta 0:00:01\r",
      "\u001b[K     |███████████████▊                | 378 kB 4.1 MB/s eta 0:00:01\r",
      "\u001b[K     |████████████████▏               | 389 kB 4.1 MB/s eta 0:00:01\r",
      "\u001b[K     |████████████████▋               | 399 kB 4.1 MB/s eta 0:00:01\r",
      "\u001b[K     |█████████████████               | 409 kB 4.1 MB/s eta 0:00:01\r",
      "\u001b[K     |█████████████████▌              | 419 kB 4.1 MB/s eta 0:00:01\r",
      "\u001b[K     |██████████████████              | 430 kB 4.1 MB/s eta 0:00:01\r",
      "\u001b[K     |██████████████████▎             | 440 kB 4.1 MB/s eta 0:00:01\r",
      "\u001b[K     |██████████████████▊             | 450 kB 4.1 MB/s eta 0:00:01\r",
      "\u001b[K     |███████████████████▏            | 460 kB 4.1 MB/s eta 0:00:01\r",
      "\u001b[K     |███████████████████▋            | 471 kB 4.1 MB/s eta 0:00:01\r",
      "\u001b[K     |████████████████████            | 481 kB 4.1 MB/s eta 0:00:01\r",
      "\u001b[K     |████████████████████▌           | 491 kB 4.1 MB/s eta 0:00:01\r",
      "\u001b[K     |████████████████████▉           | 501 kB 4.1 MB/s eta 0:00:01\r",
      "\u001b[K     |█████████████████████▎          | 512 kB 4.1 MB/s eta 0:00:01\r",
      "\u001b[K     |█████████████████████▊          | 522 kB 4.1 MB/s eta 0:00:01\r",
      "\u001b[K     |██████████████████████▏         | 532 kB 4.1 MB/s eta 0:00:01\r",
      "\u001b[K     |██████████████████████▋         | 542 kB 4.1 MB/s eta 0:00:01\r",
      "\u001b[K     |███████████████████████         | 552 kB 4.1 MB/s eta 0:00:01\r",
      "\u001b[K     |███████████████████████▍        | 563 kB 4.1 MB/s eta 0:00:01\r",
      "\u001b[K     |███████████████████████▉        | 573 kB 4.1 MB/s eta 0:00:01\r",
      "\u001b[K     |████████████████████████▎       | 583 kB 4.1 MB/s eta 0:00:01\r",
      "\u001b[K     |████████████████████████▊       | 593 kB 4.1 MB/s eta 0:00:01\r",
      "\u001b[K     |█████████████████████████▏      | 604 kB 4.1 MB/s eta 0:00:01\r",
      "\u001b[K     |█████████████████████████▋      | 614 kB 4.1 MB/s eta 0:00:01\r",
      "\u001b[K     |██████████████████████████      | 624 kB 4.1 MB/s eta 0:00:01\r",
      "\u001b[K     |██████████████████████████▍     | 634 kB 4.1 MB/s eta 0:00:01\r",
      "\u001b[K     |██████████████████████████▉     | 645 kB 4.1 MB/s eta 0:00:01\r",
      "\u001b[K     |███████████████████████████▎    | 655 kB 4.1 MB/s eta 0:00:01\r",
      "\u001b[K     |███████████████████████████▊    | 665 kB 4.1 MB/s eta 0:00:01\r",
      "\u001b[K     |████████████████████████████▏   | 675 kB 4.1 MB/s eta 0:00:01\r",
      "\u001b[K     |████████████████████████████▌   | 686 kB 4.1 MB/s eta 0:00:01\r",
      "\u001b[K     |█████████████████████████████   | 696 kB 4.1 MB/s eta 0:00:01\r",
      "\u001b[K     |█████████████████████████████▍  | 706 kB 4.1 MB/s eta 0:00:01\r",
      "\u001b[K     |█████████████████████████████▉  | 716 kB 4.1 MB/s eta 0:00:01\r",
      "\u001b[K     |██████████████████████████████▎ | 727 kB 4.1 MB/s eta 0:00:01\r",
      "\u001b[K     |██████████████████████████████▊ | 737 kB 4.1 MB/s eta 0:00:01\r",
      "\u001b[K     |███████████████████████████████ | 747 kB 4.1 MB/s eta 0:00:01\r",
      "\u001b[K     |███████████████████████████████▌| 757 kB 4.1 MB/s eta 0:00:01\r",
      "\u001b[K     |████████████████████████████████| 768 kB 4.1 MB/s eta 0:00:01\r",
      "\u001b[K     |████████████████████████████████| 769 kB 4.1 MB/s \n",
      "\u001b[?25h  Building wheel for claucy (setup.py) ... \u001b[?25l\u001b[?25hdone\n"
     ]
    }
   ],
   "source": [
    "# for extracting triples from raw text\n",
    "!python -m pip install -q git+https://github.com/mmxgn/spacy-clausie.git\n",
    "\n",
    "# for dowloading dataset from kaggle\n",
    "!pip install -q opendatasets"
   ]
  },
  {
   "cell_type": "code",
   "execution_count": 2,
   "metadata": {
    "id": "WYOglNrHghlW"
   },
   "outputs": [],
   "source": [
    "import numpy as np\n",
    "import pandas as pd\n",
    "import csv\n",
    "import spacy\n",
    "import claucy                       # for extracting triples from raw text\n",
    "import os\n",
    "from bs4 import BeautifulSoup       # to remove html tags\n",
    "import nltk\n",
    "from nltk.corpus import stopwords   # to get collection of stopwords\n",
    "from tqdm import tqdm\n",
    "from spacy import displacy          # for displaying big reviews\n",
    "nlp = spacy.load('en_core_web_sm')\n"
   ]
  },
  {
   "cell_type": "code",
   "execution_count": 4,
   "metadata": {
    "colab": {
     "base_uri": "https://localhost:8080/"
    },
    "id": "qHecifig3Xjz",
    "outputId": "cbb43b36-2d8e-4c8d-e68c-90769b15f612"
   },
   "outputs": [
    {
     "name": "stdout",
     "output_type": "stream",
     "text": [
      "Skipping, found downloaded files in \"./amazon-fine-food-reviews\" (use force=True to force download)\n"
     ]
    }
   ],
   "source": [
    "# https://www.geeksforgeeks.org/how-to-import-kaggle-datasets-directly-into-google-colab/\n",
    "import opendatasets as od\n",
    "\n",
    "od.download(\n",
    "    \"https://www.kaggle.com/datasets/snap/amazon-fine-food-reviews\")"
   ]
  },
  {
   "cell_type": "markdown",
   "metadata": {
    "id": "VmGFeqNghFTG"
   },
   "source": [
    "## 2. Load and Preprocess Dataset"
   ]
  },
  {
   "cell_type": "code",
   "execution_count": 5,
   "metadata": {
    "colab": {
     "base_uri": "https://localhost:8080/",
     "height": 337
    },
    "id": "rzHvPY59hKRa",
    "outputId": "191af7d7-c901-414a-93f4-4e951eeb1242"
   },
   "outputs": [
    {
     "data": {
      "text/html": [
       "\n",
       "  <div id=\"df-07749ea6-3ed6-45f3-9929-506f45a80622\">\n",
       "    <div class=\"colab-df-container\">\n",
       "      <div>\n",
       "<style scoped>\n",
       "    .dataframe tbody tr th:only-of-type {\n",
       "        vertical-align: middle;\n",
       "    }\n",
       "\n",
       "    .dataframe tbody tr th {\n",
       "        vertical-align: top;\n",
       "    }\n",
       "\n",
       "    .dataframe thead th {\n",
       "        text-align: right;\n",
       "    }\n",
       "</style>\n",
       "<table border=\"1\" class=\"dataframe\">\n",
       "  <thead>\n",
       "    <tr style=\"text-align: right;\">\n",
       "      <th></th>\n",
       "      <th>Id</th>\n",
       "      <th>ProductId</th>\n",
       "      <th>UserId</th>\n",
       "      <th>ProfileName</th>\n",
       "      <th>HelpfulnessNumerator</th>\n",
       "      <th>HelpfulnessDenominator</th>\n",
       "      <th>Score</th>\n",
       "      <th>Time</th>\n",
       "      <th>Summary</th>\n",
       "      <th>Text</th>\n",
       "    </tr>\n",
       "  </thead>\n",
       "  <tbody>\n",
       "    <tr>\n",
       "      <th>0</th>\n",
       "      <td>1</td>\n",
       "      <td>B001E4KFG0</td>\n",
       "      <td>A3SGXH7AUHU8GW</td>\n",
       "      <td>delmartian</td>\n",
       "      <td>1</td>\n",
       "      <td>1</td>\n",
       "      <td>5</td>\n",
       "      <td>1303862400</td>\n",
       "      <td>Good Quality Dog Food</td>\n",
       "      <td>I have bought several of the Vitality canned d...</td>\n",
       "    </tr>\n",
       "    <tr>\n",
       "      <th>1</th>\n",
       "      <td>2</td>\n",
       "      <td>B00813GRG4</td>\n",
       "      <td>A1D87F6ZCVE5NK</td>\n",
       "      <td>dll pa</td>\n",
       "      <td>0</td>\n",
       "      <td>0</td>\n",
       "      <td>1</td>\n",
       "      <td>1346976000</td>\n",
       "      <td>Not as Advertised</td>\n",
       "      <td>Product arrived labeled as Jumbo Salted Peanut...</td>\n",
       "    </tr>\n",
       "    <tr>\n",
       "      <th>2</th>\n",
       "      <td>3</td>\n",
       "      <td>B000LQOCH0</td>\n",
       "      <td>ABXLMWJIXXAIN</td>\n",
       "      <td>Natalia Corres \"Natalia Corres\"</td>\n",
       "      <td>1</td>\n",
       "      <td>1</td>\n",
       "      <td>4</td>\n",
       "      <td>1219017600</td>\n",
       "      <td>\"Delight\" says it all</td>\n",
       "      <td>This is a confection that has been around a fe...</td>\n",
       "    </tr>\n",
       "    <tr>\n",
       "      <th>3</th>\n",
       "      <td>4</td>\n",
       "      <td>B000UA0QIQ</td>\n",
       "      <td>A395BORC6FGVXV</td>\n",
       "      <td>Karl</td>\n",
       "      <td>3</td>\n",
       "      <td>3</td>\n",
       "      <td>2</td>\n",
       "      <td>1307923200</td>\n",
       "      <td>Cough Medicine</td>\n",
       "      <td>If you are looking for the secret ingredient i...</td>\n",
       "    </tr>\n",
       "    <tr>\n",
       "      <th>4</th>\n",
       "      <td>5</td>\n",
       "      <td>B006K2ZZ7K</td>\n",
       "      <td>A1UQRSCLF8GW1T</td>\n",
       "      <td>Michael D. Bigham \"M. Wassir\"</td>\n",
       "      <td>0</td>\n",
       "      <td>0</td>\n",
       "      <td>5</td>\n",
       "      <td>1350777600</td>\n",
       "      <td>Great taffy</td>\n",
       "      <td>Great taffy at a great price.  There was a wid...</td>\n",
       "    </tr>\n",
       "  </tbody>\n",
       "</table>\n",
       "</div>\n",
       "      <button class=\"colab-df-convert\" onclick=\"convertToInteractive('df-07749ea6-3ed6-45f3-9929-506f45a80622')\"\n",
       "              title=\"Convert this dataframe to an interactive table.\"\n",
       "              style=\"display:none;\">\n",
       "        \n",
       "  <svg xmlns=\"http://www.w3.org/2000/svg\" height=\"24px\"viewBox=\"0 0 24 24\"\n",
       "       width=\"24px\">\n",
       "    <path d=\"M0 0h24v24H0V0z\" fill=\"none\"/>\n",
       "    <path d=\"M18.56 5.44l.94 2.06.94-2.06 2.06-.94-2.06-.94-.94-2.06-.94 2.06-2.06.94zm-11 1L8.5 8.5l.94-2.06 2.06-.94-2.06-.94L8.5 2.5l-.94 2.06-2.06.94zm10 10l.94 2.06.94-2.06 2.06-.94-2.06-.94-.94-2.06-.94 2.06-2.06.94z\"/><path d=\"M17.41 7.96l-1.37-1.37c-.4-.4-.92-.59-1.43-.59-.52 0-1.04.2-1.43.59L10.3 9.45l-7.72 7.72c-.78.78-.78 2.05 0 2.83L4 21.41c.39.39.9.59 1.41.59.51 0 1.02-.2 1.41-.59l7.78-7.78 2.81-2.81c.8-.78.8-2.07 0-2.86zM5.41 20L4 18.59l7.72-7.72 1.47 1.35L5.41 20z\"/>\n",
       "  </svg>\n",
       "      </button>\n",
       "      \n",
       "  <style>\n",
       "    .colab-df-container {\n",
       "      display:flex;\n",
       "      flex-wrap:wrap;\n",
       "      gap: 12px;\n",
       "    }\n",
       "\n",
       "    .colab-df-convert {\n",
       "      background-color: #E8F0FE;\n",
       "      border: none;\n",
       "      border-radius: 50%;\n",
       "      cursor: pointer;\n",
       "      display: none;\n",
       "      fill: #1967D2;\n",
       "      height: 32px;\n",
       "      padding: 0 0 0 0;\n",
       "      width: 32px;\n",
       "    }\n",
       "\n",
       "    .colab-df-convert:hover {\n",
       "      background-color: #E2EBFA;\n",
       "      box-shadow: 0px 1px 2px rgba(60, 64, 67, 0.3), 0px 1px 3px 1px rgba(60, 64, 67, 0.15);\n",
       "      fill: #174EA6;\n",
       "    }\n",
       "\n",
       "    [theme=dark] .colab-df-convert {\n",
       "      background-color: #3B4455;\n",
       "      fill: #D2E3FC;\n",
       "    }\n",
       "\n",
       "    [theme=dark] .colab-df-convert:hover {\n",
       "      background-color: #434B5C;\n",
       "      box-shadow: 0px 1px 3px 1px rgba(0, 0, 0, 0.15);\n",
       "      filter: drop-shadow(0px 1px 2px rgba(0, 0, 0, 0.3));\n",
       "      fill: #FFFFFF;\n",
       "    }\n",
       "  </style>\n",
       "\n",
       "      <script>\n",
       "        const buttonEl =\n",
       "          document.querySelector('#df-07749ea6-3ed6-45f3-9929-506f45a80622 button.colab-df-convert');\n",
       "        buttonEl.style.display =\n",
       "          google.colab.kernel.accessAllowed ? 'block' : 'none';\n",
       "\n",
       "        async function convertToInteractive(key) {\n",
       "          const element = document.querySelector('#df-07749ea6-3ed6-45f3-9929-506f45a80622');\n",
       "          const dataTable =\n",
       "            await google.colab.kernel.invokeFunction('convertToInteractive',\n",
       "                                                     [key], {});\n",
       "          if (!dataTable) return;\n",
       "\n",
       "          const docLinkHtml = 'Like what you see? Visit the ' +\n",
       "            '<a target=\"_blank\" href=https://colab.research.google.com/notebooks/data_table.ipynb>data table notebook</a>'\n",
       "            + ' to learn more about interactive tables.';\n",
       "          element.innerHTML = '';\n",
       "          dataTable['output_type'] = 'display_data';\n",
       "          await google.colab.output.renderOutput(dataTable, element);\n",
       "          const docLink = document.createElement('div');\n",
       "          docLink.innerHTML = docLinkHtml;\n",
       "          element.appendChild(docLink);\n",
       "        }\n",
       "      </script>\n",
       "    </div>\n",
       "  </div>\n",
       "  "
      ],
      "text/plain": [
       "   Id   ProductId          UserId                      ProfileName  \\\n",
       "0   1  B001E4KFG0  A3SGXH7AUHU8GW                       delmartian   \n",
       "1   2  B00813GRG4  A1D87F6ZCVE5NK                           dll pa   \n",
       "2   3  B000LQOCH0   ABXLMWJIXXAIN  Natalia Corres \"Natalia Corres\"   \n",
       "3   4  B000UA0QIQ  A395BORC6FGVXV                             Karl   \n",
       "4   5  B006K2ZZ7K  A1UQRSCLF8GW1T    Michael D. Bigham \"M. Wassir\"   \n",
       "\n",
       "   HelpfulnessNumerator  HelpfulnessDenominator  Score        Time  \\\n",
       "0                     1                       1      5  1303862400   \n",
       "1                     0                       0      1  1346976000   \n",
       "2                     1                       1      4  1219017600   \n",
       "3                     3                       3      2  1307923200   \n",
       "4                     0                       0      5  1350777600   \n",
       "\n",
       "                 Summary                                               Text  \n",
       "0  Good Quality Dog Food  I have bought several of the Vitality canned d...  \n",
       "1      Not as Advertised  Product arrived labeled as Jumbo Salted Peanut...  \n",
       "2  \"Delight\" says it all  This is a confection that has been around a fe...  \n",
       "3         Cough Medicine  If you are looking for the secret ingredient i...  \n",
       "4            Great taffy  Great taffy at a great price.  There was a wid...  "
      ]
     },
     "execution_count": 5,
     "metadata": {},
     "output_type": "execute_result"
    }
   ],
   "source": [
    "df_raw = pd.read_csv('amazon-fine-food-reviews/Reviews.csv')\n",
    "df_raw.head()"
   ]
  },
  {
   "cell_type": "code",
   "execution_count": 6,
   "metadata": {
    "colab": {
     "base_uri": "https://localhost:8080/"
    },
    "id": "nY5dfz-qWAbM",
    "outputId": "be3e608e-73fb-4997-b780-5da03e25950f"
   },
   "outputs": [
    {
     "data": {
      "text/plain": [
       "(568454, 10)"
      ]
     },
     "execution_count": 6,
     "metadata": {},
     "output_type": "execute_result"
    }
   ],
   "source": [
    "df_raw.shape"
   ]
  },
  {
   "cell_type": "markdown",
   "metadata": {
    "id": "IZYGPmBmhfga"
   },
   "source": [
    "**Remove duplicates**. Some reviews have every column identical except for the ProductId. This happens because these reviews refer to the same product but this product is sold in various flavours or quanitites which have different ProductIds.\n",
    "<br>\n",
    "The dataset will be sorted according to ProductId and then just the first similar product review will be kept while the other reviews will be deleted. This method ensures that there is only one representative for each product. Deduplication without sorting would lead to the possibility of different representatives still existing for the same product."
   ]
  },
  {
   "cell_type": "markdown",
   "metadata": {
    "id": "DD1e8544945T"
   },
   "source": [
    "Example of records before de-duplication"
   ]
  },
  {
   "cell_type": "code",
   "execution_count": 7,
   "metadata": {
    "colab": {
     "base_uri": "https://localhost:8080/",
     "height": 337
    },
    "id": "CcQm7mXFcnId",
    "outputId": "fd42f6c4-fe07-4303-f54a-0a8f1cf95bd4"
   },
   "outputs": [
    {
     "data": {
      "text/html": [
       "\n",
       "  <div id=\"df-544a7e67-2277-4acc-986d-16796cdf042a\">\n",
       "    <div class=\"colab-df-container\">\n",
       "      <div>\n",
       "<style scoped>\n",
       "    .dataframe tbody tr th:only-of-type {\n",
       "        vertical-align: middle;\n",
       "    }\n",
       "\n",
       "    .dataframe tbody tr th {\n",
       "        vertical-align: top;\n",
       "    }\n",
       "\n",
       "    .dataframe thead th {\n",
       "        text-align: right;\n",
       "    }\n",
       "</style>\n",
       "<table border=\"1\" class=\"dataframe\">\n",
       "  <thead>\n",
       "    <tr style=\"text-align: right;\">\n",
       "      <th></th>\n",
       "      <th>Id</th>\n",
       "      <th>ProductId</th>\n",
       "      <th>UserId</th>\n",
       "      <th>ProfileName</th>\n",
       "      <th>HelpfulnessNumerator</th>\n",
       "      <th>HelpfulnessDenominator</th>\n",
       "      <th>Score</th>\n",
       "      <th>Time</th>\n",
       "      <th>Summary</th>\n",
       "      <th>Text</th>\n",
       "    </tr>\n",
       "  </thead>\n",
       "  <tbody>\n",
       "    <tr>\n",
       "      <th>46112</th>\n",
       "      <td>46113</td>\n",
       "      <td>B001EO5QZK</td>\n",
       "      <td>A244ZOEIN2H8A7</td>\n",
       "      <td>David Calder</td>\n",
       "      <td>0</td>\n",
       "      <td>0</td>\n",
       "      <td>4</td>\n",
       "      <td>1287360000</td>\n",
       "      <td>Very tasty</td>\n",
       "      <td>I liked this a lot and will keep this in my te...</td>\n",
       "    </tr>\n",
       "    <tr>\n",
       "      <th>49579</th>\n",
       "      <td>49580</td>\n",
       "      <td>B001E5E268</td>\n",
       "      <td>A244ZOEIN2H8A7</td>\n",
       "      <td>David Calder</td>\n",
       "      <td>0</td>\n",
       "      <td>0</td>\n",
       "      <td>4</td>\n",
       "      <td>1287360000</td>\n",
       "      <td>Very tasty</td>\n",
       "      <td>I liked this a lot and will keep this in my te...</td>\n",
       "    </tr>\n",
       "    <tr>\n",
       "      <th>61447</th>\n",
       "      <td>61448</td>\n",
       "      <td>B001EO5R04</td>\n",
       "      <td>A244ZOEIN2H8A7</td>\n",
       "      <td>David Calder</td>\n",
       "      <td>0</td>\n",
       "      <td>0</td>\n",
       "      <td>4</td>\n",
       "      <td>1287360000</td>\n",
       "      <td>Very tasty</td>\n",
       "      <td>I liked this a lot and will keep this in my te...</td>\n",
       "    </tr>\n",
       "    <tr>\n",
       "      <th>61636</th>\n",
       "      <td>61637</td>\n",
       "      <td>B001EO5R0Y</td>\n",
       "      <td>A244ZOEIN2H8A7</td>\n",
       "      <td>David Calder</td>\n",
       "      <td>0</td>\n",
       "      <td>0</td>\n",
       "      <td>4</td>\n",
       "      <td>1287360000</td>\n",
       "      <td>Very tasty</td>\n",
       "      <td>I liked this a lot and will keep this in my te...</td>\n",
       "    </tr>\n",
       "    <tr>\n",
       "      <th>145519</th>\n",
       "      <td>145520</td>\n",
       "      <td>B003D4F1QS</td>\n",
       "      <td>A244ZOEIN2H8A7</td>\n",
       "      <td>David Calder</td>\n",
       "      <td>0</td>\n",
       "      <td>0</td>\n",
       "      <td>4</td>\n",
       "      <td>1349568000</td>\n",
       "      <td>Pleasant</td>\n",
       "      <td>This is a pleasant tea that is perfect for a r...</td>\n",
       "    </tr>\n",
       "  </tbody>\n",
       "</table>\n",
       "</div>\n",
       "      <button class=\"colab-df-convert\" onclick=\"convertToInteractive('df-544a7e67-2277-4acc-986d-16796cdf042a')\"\n",
       "              title=\"Convert this dataframe to an interactive table.\"\n",
       "              style=\"display:none;\">\n",
       "        \n",
       "  <svg xmlns=\"http://www.w3.org/2000/svg\" height=\"24px\"viewBox=\"0 0 24 24\"\n",
       "       width=\"24px\">\n",
       "    <path d=\"M0 0h24v24H0V0z\" fill=\"none\"/>\n",
       "    <path d=\"M18.56 5.44l.94 2.06.94-2.06 2.06-.94-2.06-.94-.94-2.06-.94 2.06-2.06.94zm-11 1L8.5 8.5l.94-2.06 2.06-.94-2.06-.94L8.5 2.5l-.94 2.06-2.06.94zm10 10l.94 2.06.94-2.06 2.06-.94-2.06-.94-.94-2.06-.94 2.06-2.06.94z\"/><path d=\"M17.41 7.96l-1.37-1.37c-.4-.4-.92-.59-1.43-.59-.52 0-1.04.2-1.43.59L10.3 9.45l-7.72 7.72c-.78.78-.78 2.05 0 2.83L4 21.41c.39.39.9.59 1.41.59.51 0 1.02-.2 1.41-.59l7.78-7.78 2.81-2.81c.8-.78.8-2.07 0-2.86zM5.41 20L4 18.59l7.72-7.72 1.47 1.35L5.41 20z\"/>\n",
       "  </svg>\n",
       "      </button>\n",
       "      \n",
       "  <style>\n",
       "    .colab-df-container {\n",
       "      display:flex;\n",
       "      flex-wrap:wrap;\n",
       "      gap: 12px;\n",
       "    }\n",
       "\n",
       "    .colab-df-convert {\n",
       "      background-color: #E8F0FE;\n",
       "      border: none;\n",
       "      border-radius: 50%;\n",
       "      cursor: pointer;\n",
       "      display: none;\n",
       "      fill: #1967D2;\n",
       "      height: 32px;\n",
       "      padding: 0 0 0 0;\n",
       "      width: 32px;\n",
       "    }\n",
       "\n",
       "    .colab-df-convert:hover {\n",
       "      background-color: #E2EBFA;\n",
       "      box-shadow: 0px 1px 2px rgba(60, 64, 67, 0.3), 0px 1px 3px 1px rgba(60, 64, 67, 0.15);\n",
       "      fill: #174EA6;\n",
       "    }\n",
       "\n",
       "    [theme=dark] .colab-df-convert {\n",
       "      background-color: #3B4455;\n",
       "      fill: #D2E3FC;\n",
       "    }\n",
       "\n",
       "    [theme=dark] .colab-df-convert:hover {\n",
       "      background-color: #434B5C;\n",
       "      box-shadow: 0px 1px 3px 1px rgba(0, 0, 0, 0.15);\n",
       "      filter: drop-shadow(0px 1px 2px rgba(0, 0, 0, 0.3));\n",
       "      fill: #FFFFFF;\n",
       "    }\n",
       "  </style>\n",
       "\n",
       "      <script>\n",
       "        const buttonEl =\n",
       "          document.querySelector('#df-544a7e67-2277-4acc-986d-16796cdf042a button.colab-df-convert');\n",
       "        buttonEl.style.display =\n",
       "          google.colab.kernel.accessAllowed ? 'block' : 'none';\n",
       "\n",
       "        async function convertToInteractive(key) {\n",
       "          const element = document.querySelector('#df-544a7e67-2277-4acc-986d-16796cdf042a');\n",
       "          const dataTable =\n",
       "            await google.colab.kernel.invokeFunction('convertToInteractive',\n",
       "                                                     [key], {});\n",
       "          if (!dataTable) return;\n",
       "\n",
       "          const docLinkHtml = 'Like what you see? Visit the ' +\n",
       "            '<a target=\"_blank\" href=https://colab.research.google.com/notebooks/data_table.ipynb>data table notebook</a>'\n",
       "            + ' to learn more about interactive tables.';\n",
       "          element.innerHTML = '';\n",
       "          dataTable['output_type'] = 'display_data';\n",
       "          await google.colab.output.renderOutput(dataTable, element);\n",
       "          const docLink = document.createElement('div');\n",
       "          docLink.innerHTML = docLinkHtml;\n",
       "          element.appendChild(docLink);\n",
       "        }\n",
       "      </script>\n",
       "    </div>\n",
       "  </div>\n",
       "  "
      ],
      "text/plain": [
       "            Id   ProductId          UserId   ProfileName  \\\n",
       "46112    46113  B001EO5QZK  A244ZOEIN2H8A7  David Calder   \n",
       "49579    49580  B001E5E268  A244ZOEIN2H8A7  David Calder   \n",
       "61447    61448  B001EO5R04  A244ZOEIN2H8A7  David Calder   \n",
       "61636    61637  B001EO5R0Y  A244ZOEIN2H8A7  David Calder   \n",
       "145519  145520  B003D4F1QS  A244ZOEIN2H8A7  David Calder   \n",
       "\n",
       "        HelpfulnessNumerator  HelpfulnessDenominator  Score        Time  \\\n",
       "46112                      0                       0      4  1287360000   \n",
       "49579                      0                       0      4  1287360000   \n",
       "61447                      0                       0      4  1287360000   \n",
       "61636                      0                       0      4  1287360000   \n",
       "145519                     0                       0      4  1349568000   \n",
       "\n",
       "           Summary                                               Text  \n",
       "46112   Very tasty  I liked this a lot and will keep this in my te...  \n",
       "49579   Very tasty  I liked this a lot and will keep this in my te...  \n",
       "61447   Very tasty  I liked this a lot and will keep this in my te...  \n",
       "61636   Very tasty  I liked this a lot and will keep this in my te...  \n",
       "145519    Pleasant  This is a pleasant tea that is perfect for a r...  "
      ]
     },
     "execution_count": 7,
     "metadata": {},
     "output_type": "execute_result"
    }
   ],
   "source": [
    "records = df_raw[df_raw['UserId'] == 'A244ZOEIN2H8A7']\n",
    "records.head()"
   ]
  },
  {
   "cell_type": "code",
   "execution_count": 8,
   "metadata": {
    "colab": {
     "base_uri": "https://localhost:8080/"
    },
    "id": "ZdKoaND4C3WE",
    "outputId": "9977b328-52b4-48da-c614-ee5a936670e6"
   },
   "outputs": [
    {
     "data": {
      "text/plain": [
       "(392908, 10)"
      ]
     },
     "execution_count": 8,
     "metadata": {},
     "output_type": "execute_result"
    }
   ],
   "source": [
    "# Sort data according to ProductId in ascending order. Keep only the first ProductId of duplicate reviews\n",
    "sorted_data=df_raw.sort_values('ProductId', axis=0, ascending=True, inplace=False, kind='quicksort', na_position='last')\n",
    "df_big=sorted_data.drop_duplicates(subset={\"UserId\",\"ProfileName\",\"Time\",\"Summary\"}, keep='first', inplace=False)\n",
    "df_big.shape"
   ]
  },
  {
   "cell_type": "markdown",
   "metadata": {
    "id": "DmrmXe6R9zjq"
   },
   "source": [
    "Example of records after de-duplication"
   ]
  },
  {
   "cell_type": "code",
   "execution_count": 9,
   "metadata": {
    "colab": {
     "base_uri": "https://localhost:8080/",
     "height": 288
    },
    "id": "8ISiwxhvjVNK",
    "outputId": "fa464e76-2add-4b32-e74e-21c193e2d22b"
   },
   "outputs": [
    {
     "data": {
      "text/html": [
       "\n",
       "  <div id=\"df-7982209d-2482-4563-8657-80348d85aa71\">\n",
       "    <div class=\"colab-df-container\">\n",
       "      <div>\n",
       "<style scoped>\n",
       "    .dataframe tbody tr th:only-of-type {\n",
       "        vertical-align: middle;\n",
       "    }\n",
       "\n",
       "    .dataframe tbody tr th {\n",
       "        vertical-align: top;\n",
       "    }\n",
       "\n",
       "    .dataframe thead th {\n",
       "        text-align: right;\n",
       "    }\n",
       "</style>\n",
       "<table border=\"1\" class=\"dataframe\">\n",
       "  <thead>\n",
       "    <tr style=\"text-align: right;\">\n",
       "      <th></th>\n",
       "      <th>Id</th>\n",
       "      <th>ProductId</th>\n",
       "      <th>UserId</th>\n",
       "      <th>ProfileName</th>\n",
       "      <th>HelpfulnessNumerator</th>\n",
       "      <th>HelpfulnessDenominator</th>\n",
       "      <th>Score</th>\n",
       "      <th>Time</th>\n",
       "      <th>Summary</th>\n",
       "      <th>Text</th>\n",
       "    </tr>\n",
       "  </thead>\n",
       "  <tbody>\n",
       "    <tr>\n",
       "      <th>528030</th>\n",
       "      <td>528031</td>\n",
       "      <td>B000EUCKF4</td>\n",
       "      <td>A244ZOEIN2H8A7</td>\n",
       "      <td>David Calder</td>\n",
       "      <td>0</td>\n",
       "      <td>0</td>\n",
       "      <td>4</td>\n",
       "      <td>1349481600</td>\n",
       "      <td>Excellent Green Tea</td>\n",
       "      <td>I like just plain green tea and have always li...</td>\n",
       "    </tr>\n",
       "    <tr>\n",
       "      <th>263493</th>\n",
       "      <td>263494</td>\n",
       "      <td>B001E5E25Y</td>\n",
       "      <td>A244ZOEIN2H8A7</td>\n",
       "      <td>David Calder</td>\n",
       "      <td>0</td>\n",
       "      <td>0</td>\n",
       "      <td>4</td>\n",
       "      <td>1287360000</td>\n",
       "      <td>Very tasty</td>\n",
       "      <td>I liked this a lot and will keep this in my te...</td>\n",
       "    </tr>\n",
       "    <tr>\n",
       "      <th>145519</th>\n",
       "      <td>145520</td>\n",
       "      <td>B003D4F1QS</td>\n",
       "      <td>A244ZOEIN2H8A7</td>\n",
       "      <td>David Calder</td>\n",
       "      <td>0</td>\n",
       "      <td>0</td>\n",
       "      <td>4</td>\n",
       "      <td>1349568000</td>\n",
       "      <td>Pleasant</td>\n",
       "      <td>This is a pleasant tea that is perfect for a r...</td>\n",
       "    </tr>\n",
       "    <tr>\n",
       "      <th>460675</th>\n",
       "      <td>460676</td>\n",
       "      <td>B003ULH01I</td>\n",
       "      <td>A244ZOEIN2H8A7</td>\n",
       "      <td>David Calder</td>\n",
       "      <td>0</td>\n",
       "      <td>0</td>\n",
       "      <td>4</td>\n",
       "      <td>1310083200</td>\n",
       "      <td>Nice flavor</td>\n",
       "      <td>Numi does a good job of producing good teas an...</td>\n",
       "    </tr>\n",
       "  </tbody>\n",
       "</table>\n",
       "</div>\n",
       "      <button class=\"colab-df-convert\" onclick=\"convertToInteractive('df-7982209d-2482-4563-8657-80348d85aa71')\"\n",
       "              title=\"Convert this dataframe to an interactive table.\"\n",
       "              style=\"display:none;\">\n",
       "        \n",
       "  <svg xmlns=\"http://www.w3.org/2000/svg\" height=\"24px\"viewBox=\"0 0 24 24\"\n",
       "       width=\"24px\">\n",
       "    <path d=\"M0 0h24v24H0V0z\" fill=\"none\"/>\n",
       "    <path d=\"M18.56 5.44l.94 2.06.94-2.06 2.06-.94-2.06-.94-.94-2.06-.94 2.06-2.06.94zm-11 1L8.5 8.5l.94-2.06 2.06-.94-2.06-.94L8.5 2.5l-.94 2.06-2.06.94zm10 10l.94 2.06.94-2.06 2.06-.94-2.06-.94-.94-2.06-.94 2.06-2.06.94z\"/><path d=\"M17.41 7.96l-1.37-1.37c-.4-.4-.92-.59-1.43-.59-.52 0-1.04.2-1.43.59L10.3 9.45l-7.72 7.72c-.78.78-.78 2.05 0 2.83L4 21.41c.39.39.9.59 1.41.59.51 0 1.02-.2 1.41-.59l7.78-7.78 2.81-2.81c.8-.78.8-2.07 0-2.86zM5.41 20L4 18.59l7.72-7.72 1.47 1.35L5.41 20z\"/>\n",
       "  </svg>\n",
       "      </button>\n",
       "      \n",
       "  <style>\n",
       "    .colab-df-container {\n",
       "      display:flex;\n",
       "      flex-wrap:wrap;\n",
       "      gap: 12px;\n",
       "    }\n",
       "\n",
       "    .colab-df-convert {\n",
       "      background-color: #E8F0FE;\n",
       "      border: none;\n",
       "      border-radius: 50%;\n",
       "      cursor: pointer;\n",
       "      display: none;\n",
       "      fill: #1967D2;\n",
       "      height: 32px;\n",
       "      padding: 0 0 0 0;\n",
       "      width: 32px;\n",
       "    }\n",
       "\n",
       "    .colab-df-convert:hover {\n",
       "      background-color: #E2EBFA;\n",
       "      box-shadow: 0px 1px 2px rgba(60, 64, 67, 0.3), 0px 1px 3px 1px rgba(60, 64, 67, 0.15);\n",
       "      fill: #174EA6;\n",
       "    }\n",
       "\n",
       "    [theme=dark] .colab-df-convert {\n",
       "      background-color: #3B4455;\n",
       "      fill: #D2E3FC;\n",
       "    }\n",
       "\n",
       "    [theme=dark] .colab-df-convert:hover {\n",
       "      background-color: #434B5C;\n",
       "      box-shadow: 0px 1px 3px 1px rgba(0, 0, 0, 0.15);\n",
       "      filter: drop-shadow(0px 1px 2px rgba(0, 0, 0, 0.3));\n",
       "      fill: #FFFFFF;\n",
       "    }\n",
       "  </style>\n",
       "\n",
       "      <script>\n",
       "        const buttonEl =\n",
       "          document.querySelector('#df-7982209d-2482-4563-8657-80348d85aa71 button.colab-df-convert');\n",
       "        buttonEl.style.display =\n",
       "          google.colab.kernel.accessAllowed ? 'block' : 'none';\n",
       "\n",
       "        async function convertToInteractive(key) {\n",
       "          const element = document.querySelector('#df-7982209d-2482-4563-8657-80348d85aa71');\n",
       "          const dataTable =\n",
       "            await google.colab.kernel.invokeFunction('convertToInteractive',\n",
       "                                                     [key], {});\n",
       "          if (!dataTable) return;\n",
       "\n",
       "          const docLinkHtml = 'Like what you see? Visit the ' +\n",
       "            '<a target=\"_blank\" href=https://colab.research.google.com/notebooks/data_table.ipynb>data table notebook</a>'\n",
       "            + ' to learn more about interactive tables.';\n",
       "          element.innerHTML = '';\n",
       "          dataTable['output_type'] = 'display_data';\n",
       "          await google.colab.output.renderOutput(dataTable, element);\n",
       "          const docLink = document.createElement('div');\n",
       "          docLink.innerHTML = docLinkHtml;\n",
       "          element.appendChild(docLink);\n",
       "        }\n",
       "      </script>\n",
       "    </div>\n",
       "  </div>\n",
       "  "
      ],
      "text/plain": [
       "            Id   ProductId          UserId   ProfileName  \\\n",
       "528030  528031  B000EUCKF4  A244ZOEIN2H8A7  David Calder   \n",
       "263493  263494  B001E5E25Y  A244ZOEIN2H8A7  David Calder   \n",
       "145519  145520  B003D4F1QS  A244ZOEIN2H8A7  David Calder   \n",
       "460675  460676  B003ULH01I  A244ZOEIN2H8A7  David Calder   \n",
       "\n",
       "        HelpfulnessNumerator  HelpfulnessDenominator  Score        Time  \\\n",
       "528030                     0                       0      4  1349481600   \n",
       "263493                     0                       0      4  1287360000   \n",
       "145519                     0                       0      4  1349568000   \n",
       "460675                     0                       0      4  1310083200   \n",
       "\n",
       "                    Summary                                               Text  \n",
       "528030  Excellent Green Tea  I like just plain green tea and have always li...  \n",
       "263493           Very tasty  I liked this a lot and will keep this in my te...  \n",
       "145519             Pleasant  This is a pleasant tea that is perfect for a r...  \n",
       "460675          Nice flavor  Numi does a good job of producing good teas an...  "
      ]
     },
     "execution_count": 9,
     "metadata": {},
     "output_type": "execute_result"
    }
   ],
   "source": [
    "records2 = df_big[df_big['UserId'] == 'A244ZOEIN2H8A7']\n",
    "records2.head()"
   ]
  },
  {
   "cell_type": "code",
   "execution_count": 10,
   "metadata": {
    "colab": {
     "base_uri": "https://localhost:8080/"
    },
    "id": "OLqZmByKdwAI",
    "outputId": "a4916eb2-b38c-4d48-a625-e303b16606d8"
   },
   "outputs": [
    {
     "name": "stdout",
     "output_type": "stream",
     "text": [
      "Duplicate records removed = 175546\n"
     ]
    }
   ],
   "source": [
    "print(\"Duplicate records removed =\",df_raw.shape[0]-df_big.shape[0])"
   ]
  },
  {
   "cell_type": "markdown",
   "metadata": {
    "id": "W26BO2z-dUoj"
   },
   "source": [
    "Remove unneeded columns"
   ]
  },
  {
   "cell_type": "code",
   "execution_count": 11,
   "metadata": {
    "colab": {
     "base_uri": "https://localhost:8080/"
    },
    "id": "BXF_63AXdYOp",
    "outputId": "3c371799-3c14-45dd-bd00-611271512489"
   },
   "outputs": [
    {
     "name": "stderr",
     "output_type": "stream",
     "text": [
      "/usr/local/lib/python3.7/dist-packages/pandas/core/frame.py:4913: SettingWithCopyWarning: \n",
      "A value is trying to be set on a copy of a slice from a DataFrame\n",
      "\n",
      "See the caveats in the documentation: https://pandas.pydata.org/pandas-docs/stable/user_guide/indexing.html#returning-a-view-versus-a-copy\n",
      "  errors=errors,\n"
     ]
    }
   ],
   "source": [
    "to_drop = [\"Id\",\"HelpfulnessNumerator\",\"HelpfulnessDenominator\",\"Score\",\"Time\",\"Summary\"]\n",
    "df_big.drop(to_drop,axis=1, inplace=True)"
   ]
  },
  {
   "cell_type": "markdown",
   "metadata": {
    "id": "ZazudECChh2S"
   },
   "source": [
    "Remove bigger than 450 characters reviews and fix index"
   ]
  },
  {
   "cell_type": "code",
   "execution_count": 12,
   "metadata": {
    "colab": {
     "base_uri": "https://localhost:8080/"
    },
    "id": "IK5B1x2bhdqZ",
    "outputId": "9a39b390-25a5-48c2-c0b8-35d16b3ada00"
   },
   "outputs": [
    {
     "data": {
      "text/plain": [
       "(269432, 4)"
      ]
     },
     "execution_count": 12,
     "metadata": {},
     "output_type": "execute_result"
    }
   ],
   "source": [
    "df = df_big.drop(df_big[df_big.Text.map(len) > 450].index)\n",
    "df = df.reset_index()\n",
    "df.drop(\"index\", axis=1, inplace=True)\n",
    "df.shape"
   ]
  },
  {
   "cell_type": "markdown",
   "metadata": {
    "id": "wrFEuYNzqMJF"
   },
   "source": [
    "Assign a numeric ProductId instead of the string one that exists already (it will be later useful for iterating)."
   ]
  },
  {
   "cell_type": "code",
   "execution_count": 13,
   "metadata": {
    "id": "FBezbzW2pFff"
   },
   "outputs": [],
   "source": [
    "df['ProductId'] = df.groupby(['ProductId']).ngroup()"
   ]
  },
  {
   "cell_type": "markdown",
   "metadata": {
    "id": "0p9kk-DOgZQ9"
   },
   "source": [
    "Drop products with fewer than 30 reviews"
   ]
  },
  {
   "cell_type": "code",
   "execution_count": 14,
   "metadata": {
    "id": "pTq-0fwtgncn"
   },
   "outputs": [],
   "source": [
    "df_product_ratings_count = df.groupby('ProductId').count()\n",
    "df_product_ratings_count = df_product_ratings_count.iloc[:,:1]\n",
    "df_product_ratings_count.rename(columns = {'UserId':'count'}, inplace = True)"
   ]
  },
  {
   "cell_type": "code",
   "execution_count": 15,
   "metadata": {
    "colab": {
     "base_uri": "https://localhost:8080/",
     "height": 237
    },
    "id": "tNQGoLUkgzLi",
    "outputId": "d8500c37-fdf8-453c-ba67-7d05dd4cfe29"
   },
   "outputs": [
    {
     "data": {
      "text/html": [
       "\n",
       "  <div id=\"df-ade31d3e-04ab-4e55-bd2b-ae30ed453f16\">\n",
       "    <div class=\"colab-df-container\">\n",
       "      <div>\n",
       "<style scoped>\n",
       "    .dataframe tbody tr th:only-of-type {\n",
       "        vertical-align: middle;\n",
       "    }\n",
       "\n",
       "    .dataframe tbody tr th {\n",
       "        vertical-align: top;\n",
       "    }\n",
       "\n",
       "    .dataframe thead th {\n",
       "        text-align: right;\n",
       "    }\n",
       "</style>\n",
       "<table border=\"1\" class=\"dataframe\">\n",
       "  <thead>\n",
       "    <tr style=\"text-align: right;\">\n",
       "      <th></th>\n",
       "      <th>count</th>\n",
       "    </tr>\n",
       "    <tr>\n",
       "      <th>ProductId</th>\n",
       "      <th></th>\n",
       "    </tr>\n",
       "  </thead>\n",
       "  <tbody>\n",
       "    <tr>\n",
       "      <th>0</th>\n",
       "      <td>24</td>\n",
       "    </tr>\n",
       "    <tr>\n",
       "      <th>1</th>\n",
       "      <td>1</td>\n",
       "    </tr>\n",
       "    <tr>\n",
       "      <th>2</th>\n",
       "      <td>2</td>\n",
       "    </tr>\n",
       "    <tr>\n",
       "      <th>3</th>\n",
       "      <td>1</td>\n",
       "    </tr>\n",
       "    <tr>\n",
       "      <th>4</th>\n",
       "      <td>129</td>\n",
       "    </tr>\n",
       "  </tbody>\n",
       "</table>\n",
       "</div>\n",
       "      <button class=\"colab-df-convert\" onclick=\"convertToInteractive('df-ade31d3e-04ab-4e55-bd2b-ae30ed453f16')\"\n",
       "              title=\"Convert this dataframe to an interactive table.\"\n",
       "              style=\"display:none;\">\n",
       "        \n",
       "  <svg xmlns=\"http://www.w3.org/2000/svg\" height=\"24px\"viewBox=\"0 0 24 24\"\n",
       "       width=\"24px\">\n",
       "    <path d=\"M0 0h24v24H0V0z\" fill=\"none\"/>\n",
       "    <path d=\"M18.56 5.44l.94 2.06.94-2.06 2.06-.94-2.06-.94-.94-2.06-.94 2.06-2.06.94zm-11 1L8.5 8.5l.94-2.06 2.06-.94-2.06-.94L8.5 2.5l-.94 2.06-2.06.94zm10 10l.94 2.06.94-2.06 2.06-.94-2.06-.94-.94-2.06-.94 2.06-2.06.94z\"/><path d=\"M17.41 7.96l-1.37-1.37c-.4-.4-.92-.59-1.43-.59-.52 0-1.04.2-1.43.59L10.3 9.45l-7.72 7.72c-.78.78-.78 2.05 0 2.83L4 21.41c.39.39.9.59 1.41.59.51 0 1.02-.2 1.41-.59l7.78-7.78 2.81-2.81c.8-.78.8-2.07 0-2.86zM5.41 20L4 18.59l7.72-7.72 1.47 1.35L5.41 20z\"/>\n",
       "  </svg>\n",
       "      </button>\n",
       "      \n",
       "  <style>\n",
       "    .colab-df-container {\n",
       "      display:flex;\n",
       "      flex-wrap:wrap;\n",
       "      gap: 12px;\n",
       "    }\n",
       "\n",
       "    .colab-df-convert {\n",
       "      background-color: #E8F0FE;\n",
       "      border: none;\n",
       "      border-radius: 50%;\n",
       "      cursor: pointer;\n",
       "      display: none;\n",
       "      fill: #1967D2;\n",
       "      height: 32px;\n",
       "      padding: 0 0 0 0;\n",
       "      width: 32px;\n",
       "    }\n",
       "\n",
       "    .colab-df-convert:hover {\n",
       "      background-color: #E2EBFA;\n",
       "      box-shadow: 0px 1px 2px rgba(60, 64, 67, 0.3), 0px 1px 3px 1px rgba(60, 64, 67, 0.15);\n",
       "      fill: #174EA6;\n",
       "    }\n",
       "\n",
       "    [theme=dark] .colab-df-convert {\n",
       "      background-color: #3B4455;\n",
       "      fill: #D2E3FC;\n",
       "    }\n",
       "\n",
       "    [theme=dark] .colab-df-convert:hover {\n",
       "      background-color: #434B5C;\n",
       "      box-shadow: 0px 1px 3px 1px rgba(0, 0, 0, 0.15);\n",
       "      filter: drop-shadow(0px 1px 2px rgba(0, 0, 0, 0.3));\n",
       "      fill: #FFFFFF;\n",
       "    }\n",
       "  </style>\n",
       "\n",
       "      <script>\n",
       "        const buttonEl =\n",
       "          document.querySelector('#df-ade31d3e-04ab-4e55-bd2b-ae30ed453f16 button.colab-df-convert');\n",
       "        buttonEl.style.display =\n",
       "          google.colab.kernel.accessAllowed ? 'block' : 'none';\n",
       "\n",
       "        async function convertToInteractive(key) {\n",
       "          const element = document.querySelector('#df-ade31d3e-04ab-4e55-bd2b-ae30ed453f16');\n",
       "          const dataTable =\n",
       "            await google.colab.kernel.invokeFunction('convertToInteractive',\n",
       "                                                     [key], {});\n",
       "          if (!dataTable) return;\n",
       "\n",
       "          const docLinkHtml = 'Like what you see? Visit the ' +\n",
       "            '<a target=\"_blank\" href=https://colab.research.google.com/notebooks/data_table.ipynb>data table notebook</a>'\n",
       "            + ' to learn more about interactive tables.';\n",
       "          element.innerHTML = '';\n",
       "          dataTable['output_type'] = 'display_data';\n",
       "          await google.colab.output.renderOutput(dataTable, element);\n",
       "          const docLink = document.createElement('div');\n",
       "          docLink.innerHTML = docLinkHtml;\n",
       "          element.appendChild(docLink);\n",
       "        }\n",
       "      </script>\n",
       "    </div>\n",
       "  </div>\n",
       "  "
      ],
      "text/plain": [
       "           count\n",
       "ProductId       \n",
       "0             24\n",
       "1              1\n",
       "2              2\n",
       "3              1\n",
       "4            129"
      ]
     },
     "execution_count": 15,
     "metadata": {},
     "output_type": "execute_result"
    }
   ],
   "source": [
    "df_product_ratings_count.head()"
   ]
  },
  {
   "cell_type": "code",
   "execution_count": 16,
   "metadata": {
    "colab": {
     "base_uri": "https://localhost:8080/"
    },
    "id": "Wa2SfE-Dgw5R",
    "outputId": "20038b54-4580-4364-8543-5aa0807c6a1a"
   },
   "outputs": [
    {
     "name": "stdout",
     "output_type": "stream",
     "text": [
      "df shape after removal of products with less than 30 reviews: (75547, 4)\n"
     ]
    }
   ],
   "source": [
    "df_product_ratings_count_min30= df_product_ratings_count.loc[df_product_ratings_count['count'] > 29]\n",
    "df = df.loc[df['ProductId'].isin(df_product_ratings_count_min30.index)]\n",
    "print(\"df shape after removal of products with less than 30 reviews:\", df.shape)"
   ]
  },
  {
   "cell_type": "markdown",
   "metadata": {
    "id": "1BSteRgXFMVO"
   },
   "source": [
    "Drop users with fewer than 3 reviews"
   ]
  },
  {
   "cell_type": "code",
   "execution_count": 17,
   "metadata": {
    "id": "4lsgC0mRhnqC"
   },
   "outputs": [],
   "source": [
    "df_user_ratings_count = df.groupby('UserId').count()\n",
    "df_user_ratings_count = df_user_ratings_count.iloc[:,:1]\n",
    "df_user_ratings_count.rename(columns = {'ProductId':'count'}, inplace = True)"
   ]
  },
  {
   "cell_type": "code",
   "execution_count": 18,
   "metadata": {
    "colab": {
     "base_uri": "https://localhost:8080/",
     "height": 237
    },
    "id": "qTj49d6fFn_C",
    "outputId": "cf83aee7-b4f9-40dc-d567-e029ebd5a5ef"
   },
   "outputs": [
    {
     "data": {
      "text/html": [
       "\n",
       "  <div id=\"df-65a1eec2-c2d0-4cfc-b50e-042602168e9b\">\n",
       "    <div class=\"colab-df-container\">\n",
       "      <div>\n",
       "<style scoped>\n",
       "    .dataframe tbody tr th:only-of-type {\n",
       "        vertical-align: middle;\n",
       "    }\n",
       "\n",
       "    .dataframe tbody tr th {\n",
       "        vertical-align: top;\n",
       "    }\n",
       "\n",
       "    .dataframe thead th {\n",
       "        text-align: right;\n",
       "    }\n",
       "</style>\n",
       "<table border=\"1\" class=\"dataframe\">\n",
       "  <thead>\n",
       "    <tr style=\"text-align: right;\">\n",
       "      <th></th>\n",
       "      <th>count</th>\n",
       "    </tr>\n",
       "    <tr>\n",
       "      <th>UserId</th>\n",
       "      <th></th>\n",
       "    </tr>\n",
       "  </thead>\n",
       "  <tbody>\n",
       "    <tr>\n",
       "      <th>#oc-R103C0QSV1DF5E</th>\n",
       "      <td>1</td>\n",
       "    </tr>\n",
       "    <tr>\n",
       "      <th>#oc-R109MU5OBBZ59U</th>\n",
       "      <td>1</td>\n",
       "    </tr>\n",
       "    <tr>\n",
       "      <th>#oc-R10UA029WVWIUI</th>\n",
       "      <td>1</td>\n",
       "    </tr>\n",
       "    <tr>\n",
       "      <th>#oc-R11DNU2NBKQ23Z</th>\n",
       "      <td>1</td>\n",
       "    </tr>\n",
       "    <tr>\n",
       "      <th>#oc-R11O5J5ZVQE25C</th>\n",
       "      <td>1</td>\n",
       "    </tr>\n",
       "  </tbody>\n",
       "</table>\n",
       "</div>\n",
       "      <button class=\"colab-df-convert\" onclick=\"convertToInteractive('df-65a1eec2-c2d0-4cfc-b50e-042602168e9b')\"\n",
       "              title=\"Convert this dataframe to an interactive table.\"\n",
       "              style=\"display:none;\">\n",
       "        \n",
       "  <svg xmlns=\"http://www.w3.org/2000/svg\" height=\"24px\"viewBox=\"0 0 24 24\"\n",
       "       width=\"24px\">\n",
       "    <path d=\"M0 0h24v24H0V0z\" fill=\"none\"/>\n",
       "    <path d=\"M18.56 5.44l.94 2.06.94-2.06 2.06-.94-2.06-.94-.94-2.06-.94 2.06-2.06.94zm-11 1L8.5 8.5l.94-2.06 2.06-.94-2.06-.94L8.5 2.5l-.94 2.06-2.06.94zm10 10l.94 2.06.94-2.06 2.06-.94-2.06-.94-.94-2.06-.94 2.06-2.06.94z\"/><path d=\"M17.41 7.96l-1.37-1.37c-.4-.4-.92-.59-1.43-.59-.52 0-1.04.2-1.43.59L10.3 9.45l-7.72 7.72c-.78.78-.78 2.05 0 2.83L4 21.41c.39.39.9.59 1.41.59.51 0 1.02-.2 1.41-.59l7.78-7.78 2.81-2.81c.8-.78.8-2.07 0-2.86zM5.41 20L4 18.59l7.72-7.72 1.47 1.35L5.41 20z\"/>\n",
       "  </svg>\n",
       "      </button>\n",
       "      \n",
       "  <style>\n",
       "    .colab-df-container {\n",
       "      display:flex;\n",
       "      flex-wrap:wrap;\n",
       "      gap: 12px;\n",
       "    }\n",
       "\n",
       "    .colab-df-convert {\n",
       "      background-color: #E8F0FE;\n",
       "      border: none;\n",
       "      border-radius: 50%;\n",
       "      cursor: pointer;\n",
       "      display: none;\n",
       "      fill: #1967D2;\n",
       "      height: 32px;\n",
       "      padding: 0 0 0 0;\n",
       "      width: 32px;\n",
       "    }\n",
       "\n",
       "    .colab-df-convert:hover {\n",
       "      background-color: #E2EBFA;\n",
       "      box-shadow: 0px 1px 2px rgba(60, 64, 67, 0.3), 0px 1px 3px 1px rgba(60, 64, 67, 0.15);\n",
       "      fill: #174EA6;\n",
       "    }\n",
       "\n",
       "    [theme=dark] .colab-df-convert {\n",
       "      background-color: #3B4455;\n",
       "      fill: #D2E3FC;\n",
       "    }\n",
       "\n",
       "    [theme=dark] .colab-df-convert:hover {\n",
       "      background-color: #434B5C;\n",
       "      box-shadow: 0px 1px 3px 1px rgba(0, 0, 0, 0.15);\n",
       "      filter: drop-shadow(0px 1px 2px rgba(0, 0, 0, 0.3));\n",
       "      fill: #FFFFFF;\n",
       "    }\n",
       "  </style>\n",
       "\n",
       "      <script>\n",
       "        const buttonEl =\n",
       "          document.querySelector('#df-65a1eec2-c2d0-4cfc-b50e-042602168e9b button.colab-df-convert');\n",
       "        buttonEl.style.display =\n",
       "          google.colab.kernel.accessAllowed ? 'block' : 'none';\n",
       "\n",
       "        async function convertToInteractive(key) {\n",
       "          const element = document.querySelector('#df-65a1eec2-c2d0-4cfc-b50e-042602168e9b');\n",
       "          const dataTable =\n",
       "            await google.colab.kernel.invokeFunction('convertToInteractive',\n",
       "                                                     [key], {});\n",
       "          if (!dataTable) return;\n",
       "\n",
       "          const docLinkHtml = 'Like what you see? Visit the ' +\n",
       "            '<a target=\"_blank\" href=https://colab.research.google.com/notebooks/data_table.ipynb>data table notebook</a>'\n",
       "            + ' to learn more about interactive tables.';\n",
       "          element.innerHTML = '';\n",
       "          dataTable['output_type'] = 'display_data';\n",
       "          await google.colab.output.renderOutput(dataTable, element);\n",
       "          const docLink = document.createElement('div');\n",
       "          docLink.innerHTML = docLinkHtml;\n",
       "          element.appendChild(docLink);\n",
       "        }\n",
       "      </script>\n",
       "    </div>\n",
       "  </div>\n",
       "  "
      ],
      "text/plain": [
       "                    count\n",
       "UserId                   \n",
       "#oc-R103C0QSV1DF5E      1\n",
       "#oc-R109MU5OBBZ59U      1\n",
       "#oc-R10UA029WVWIUI      1\n",
       "#oc-R11DNU2NBKQ23Z      1\n",
       "#oc-R11O5J5ZVQE25C      1"
      ]
     },
     "execution_count": 18,
     "metadata": {},
     "output_type": "execute_result"
    }
   ],
   "source": [
    "df_user_ratings_count.head()"
   ]
  },
  {
   "cell_type": "code",
   "execution_count": 19,
   "metadata": {
    "colab": {
     "base_uri": "https://localhost:8080/"
    },
    "id": "h8Y1rQh-F-F9",
    "outputId": "2b7de34b-44ca-4903-c05b-fa037a883d60"
   },
   "outputs": [
    {
     "name": "stdout",
     "output_type": "stream",
     "text": [
      "df shape after removing users with less than 3 reviews: (10435, 4)\n"
     ]
    }
   ],
   "source": [
    "df_user_ratings_count_min3= df_user_ratings_count.loc[df_user_ratings_count['count'] > 2]\n",
    "df = df.loc[df['UserId'].isin(df_user_ratings_count_min3.index)]\n",
    "print(\"df shape after removing users with less than 3 reviews:\", df.shape)"
   ]
  },
  {
   "cell_type": "markdown",
   "metadata": {
    "id": "hKOEvuwmf8tS"
   },
   "source": [
    "Remove html tags"
   ]
  },
  {
   "cell_type": "code",
   "execution_count": 20,
   "metadata": {
    "id": "VSIoIlek7Sj-"
   },
   "outputs": [],
   "source": [
    "# function to clean html tags in a sentence\n",
    "def clean_html(sentence): \n",
    "    soup = BeautifulSoup(sentence)\n",
    "    cleantext = soup.get_text()\n",
    "    return cleantext\n",
    "\n",
    "df['Text'] = df['Text'].apply(clean_html)"
   ]
  },
  {
   "cell_type": "markdown",
   "metadata": {
    "id": "uOjNxdHQ4BlA"
   },
   "source": [
    "<br>"
   ]
  },
  {
   "cell_type": "markdown",
   "metadata": {
    "id": "N1tOS7Z0-3x_"
   },
   "source": [
    "Let's see the final dataframe"
   ]
  },
  {
   "cell_type": "code",
   "execution_count": 21,
   "metadata": {
    "colab": {
     "base_uri": "https://localhost:8080/",
     "height": 424
    },
    "id": "qiQQqpwND7Zp",
    "outputId": "ad086cd3-cc39-405b-c542-5f5c27455702"
   },
   "outputs": [
    {
     "data": {
      "text/html": [
       "\n",
       "  <div id=\"df-1dd3b062-c092-4d47-bda5-ac9877c03835\">\n",
       "    <div class=\"colab-df-container\">\n",
       "      <div>\n",
       "<style scoped>\n",
       "    .dataframe tbody tr th:only-of-type {\n",
       "        vertical-align: middle;\n",
       "    }\n",
       "\n",
       "    .dataframe tbody tr th {\n",
       "        vertical-align: top;\n",
       "    }\n",
       "\n",
       "    .dataframe thead th {\n",
       "        text-align: right;\n",
       "    }\n",
       "</style>\n",
       "<table border=\"1\" class=\"dataframe\">\n",
       "  <thead>\n",
       "    <tr style=\"text-align: right;\">\n",
       "      <th></th>\n",
       "      <th>ProductId</th>\n",
       "      <th>UserId</th>\n",
       "      <th>ProfileName</th>\n",
       "      <th>Text</th>\n",
       "    </tr>\n",
       "  </thead>\n",
       "  <tbody>\n",
       "    <tr>\n",
       "      <th>0</th>\n",
       "      <td>4</td>\n",
       "      <td>A263978BIOCRZV</td>\n",
       "      <td>Dan Detwiler</td>\n",
       "      <td>My dogs love these treats. The only problems I...</td>\n",
       "    </tr>\n",
       "    <tr>\n",
       "      <th>1</th>\n",
       "      <td>4</td>\n",
       "      <td>A30M06JH5R1831</td>\n",
       "      <td>JAE</td>\n",
       "      <td>My dogs love this treat. I use it to train the...</td>\n",
       "    </tr>\n",
       "    <tr>\n",
       "      <th>2</th>\n",
       "      <td>4</td>\n",
       "      <td>A1YHXGV6GC51IM</td>\n",
       "      <td>Americangirl \"TRUTH SETS YOU FREE\"</td>\n",
       "      <td>ALL I DO IS SHAKE THIS CONTAINER AND MY DOG CO...</td>\n",
       "    </tr>\n",
       "    <tr>\n",
       "      <th>3</th>\n",
       "      <td>4</td>\n",
       "      <td>A39FLPUWTNESK0</td>\n",
       "      <td>Roy Levow</td>\n",
       "      <td>I've purchased several different brands of liv...</td>\n",
       "    </tr>\n",
       "    <tr>\n",
       "      <th>4</th>\n",
       "      <td>10</td>\n",
       "      <td>A370Z6I5GBWU44</td>\n",
       "      <td>M \"CultOfStrawberry\"</td>\n",
       "      <td>There's not much I can say that others haven't...</td>\n",
       "    </tr>\n",
       "    <tr>\n",
       "      <th>...</th>\n",
       "      <td>...</td>\n",
       "      <td>...</td>\n",
       "      <td>...</td>\n",
       "      <td>...</td>\n",
       "    </tr>\n",
       "    <tr>\n",
       "      <th>10430</th>\n",
       "      <td>58785</td>\n",
       "      <td>A29XI8QYHVHM7B</td>\n",
       "      <td>T. Casey</td>\n",
       "      <td>This is pretty amazing stuff.  I stay away fro...</td>\n",
       "    </tr>\n",
       "    <tr>\n",
       "      <th>10431</th>\n",
       "      <td>58785</td>\n",
       "      <td>A1ZTHMKKOG0H6Z</td>\n",
       "      <td>J. A. Hartmann</td>\n",
       "      <td>I can't say enough good about this deliciously...</td>\n",
       "    </tr>\n",
       "    <tr>\n",
       "      <th>10432</th>\n",
       "      <td>58785</td>\n",
       "      <td>AH34Q0NYD4SSP</td>\n",
       "      <td>Deborah K. Anderson</td>\n",
       "      <td>I saw this product on \"DR.OZ\" TV show &amp; though...</td>\n",
       "    </tr>\n",
       "    <tr>\n",
       "      <th>10433</th>\n",
       "      <td>58785</td>\n",
       "      <td>A38TPUN6VBAYYP</td>\n",
       "      <td>R Owens</td>\n",
       "      <td>Taking all the fat out of peanut butter and ch...</td>\n",
       "    </tr>\n",
       "    <tr>\n",
       "      <th>10434</th>\n",
       "      <td>58785</td>\n",
       "      <td>A3K9Q3WL0OF7N1</td>\n",
       "      <td>niecypoo \"niecypoo\"</td>\n",
       "      <td>I love it!! I am an avid peanut butter lover, ...</td>\n",
       "    </tr>\n",
       "  </tbody>\n",
       "</table>\n",
       "<p>10435 rows × 4 columns</p>\n",
       "</div>\n",
       "      <button class=\"colab-df-convert\" onclick=\"convertToInteractive('df-1dd3b062-c092-4d47-bda5-ac9877c03835')\"\n",
       "              title=\"Convert this dataframe to an interactive table.\"\n",
       "              style=\"display:none;\">\n",
       "        \n",
       "  <svg xmlns=\"http://www.w3.org/2000/svg\" height=\"24px\"viewBox=\"0 0 24 24\"\n",
       "       width=\"24px\">\n",
       "    <path d=\"M0 0h24v24H0V0z\" fill=\"none\"/>\n",
       "    <path d=\"M18.56 5.44l.94 2.06.94-2.06 2.06-.94-2.06-.94-.94-2.06-.94 2.06-2.06.94zm-11 1L8.5 8.5l.94-2.06 2.06-.94-2.06-.94L8.5 2.5l-.94 2.06-2.06.94zm10 10l.94 2.06.94-2.06 2.06-.94-2.06-.94-.94-2.06-.94 2.06-2.06.94z\"/><path d=\"M17.41 7.96l-1.37-1.37c-.4-.4-.92-.59-1.43-.59-.52 0-1.04.2-1.43.59L10.3 9.45l-7.72 7.72c-.78.78-.78 2.05 0 2.83L4 21.41c.39.39.9.59 1.41.59.51 0 1.02-.2 1.41-.59l7.78-7.78 2.81-2.81c.8-.78.8-2.07 0-2.86zM5.41 20L4 18.59l7.72-7.72 1.47 1.35L5.41 20z\"/>\n",
       "  </svg>\n",
       "      </button>\n",
       "      \n",
       "  <style>\n",
       "    .colab-df-container {\n",
       "      display:flex;\n",
       "      flex-wrap:wrap;\n",
       "      gap: 12px;\n",
       "    }\n",
       "\n",
       "    .colab-df-convert {\n",
       "      background-color: #E8F0FE;\n",
       "      border: none;\n",
       "      border-radius: 50%;\n",
       "      cursor: pointer;\n",
       "      display: none;\n",
       "      fill: #1967D2;\n",
       "      height: 32px;\n",
       "      padding: 0 0 0 0;\n",
       "      width: 32px;\n",
       "    }\n",
       "\n",
       "    .colab-df-convert:hover {\n",
       "      background-color: #E2EBFA;\n",
       "      box-shadow: 0px 1px 2px rgba(60, 64, 67, 0.3), 0px 1px 3px 1px rgba(60, 64, 67, 0.15);\n",
       "      fill: #174EA6;\n",
       "    }\n",
       "\n",
       "    [theme=dark] .colab-df-convert {\n",
       "      background-color: #3B4455;\n",
       "      fill: #D2E3FC;\n",
       "    }\n",
       "\n",
       "    [theme=dark] .colab-df-convert:hover {\n",
       "      background-color: #434B5C;\n",
       "      box-shadow: 0px 1px 3px 1px rgba(0, 0, 0, 0.15);\n",
       "      filter: drop-shadow(0px 1px 2px rgba(0, 0, 0, 0.3));\n",
       "      fill: #FFFFFF;\n",
       "    }\n",
       "  </style>\n",
       "\n",
       "      <script>\n",
       "        const buttonEl =\n",
       "          document.querySelector('#df-1dd3b062-c092-4d47-bda5-ac9877c03835 button.colab-df-convert');\n",
       "        buttonEl.style.display =\n",
       "          google.colab.kernel.accessAllowed ? 'block' : 'none';\n",
       "\n",
       "        async function convertToInteractive(key) {\n",
       "          const element = document.querySelector('#df-1dd3b062-c092-4d47-bda5-ac9877c03835');\n",
       "          const dataTable =\n",
       "            await google.colab.kernel.invokeFunction('convertToInteractive',\n",
       "                                                     [key], {});\n",
       "          if (!dataTable) return;\n",
       "\n",
       "          const docLinkHtml = 'Like what you see? Visit the ' +\n",
       "            '<a target=\"_blank\" href=https://colab.research.google.com/notebooks/data_table.ipynb>data table notebook</a>'\n",
       "            + ' to learn more about interactive tables.';\n",
       "          element.innerHTML = '';\n",
       "          dataTable['output_type'] = 'display_data';\n",
       "          await google.colab.output.renderOutput(dataTable, element);\n",
       "          const docLink = document.createElement('div');\n",
       "          docLink.innerHTML = docLinkHtml;\n",
       "          element.appendChild(docLink);\n",
       "        }\n",
       "      </script>\n",
       "    </div>\n",
       "  </div>\n",
       "  "
      ],
      "text/plain": [
       "       ProductId          UserId                         ProfileName  \\\n",
       "0              4  A263978BIOCRZV                        Dan Detwiler   \n",
       "1              4  A30M06JH5R1831                                 JAE   \n",
       "2              4  A1YHXGV6GC51IM  Americangirl \"TRUTH SETS YOU FREE\"   \n",
       "3              4  A39FLPUWTNESK0                           Roy Levow   \n",
       "4             10  A370Z6I5GBWU44                M \"CultOfStrawberry\"   \n",
       "...          ...             ...                                 ...   \n",
       "10430      58785  A29XI8QYHVHM7B                            T. Casey   \n",
       "10431      58785  A1ZTHMKKOG0H6Z                      J. A. Hartmann   \n",
       "10432      58785   AH34Q0NYD4SSP                 Deborah K. Anderson   \n",
       "10433      58785  A38TPUN6VBAYYP                             R Owens   \n",
       "10434      58785  A3K9Q3WL0OF7N1                 niecypoo \"niecypoo\"   \n",
       "\n",
       "                                                    Text  \n",
       "0      My dogs love these treats. The only problems I...  \n",
       "1      My dogs love this treat. I use it to train the...  \n",
       "2      ALL I DO IS SHAKE THIS CONTAINER AND MY DOG CO...  \n",
       "3      I've purchased several different brands of liv...  \n",
       "4      There's not much I can say that others haven't...  \n",
       "...                                                  ...  \n",
       "10430  This is pretty amazing stuff.  I stay away fro...  \n",
       "10431  I can't say enough good about this deliciously...  \n",
       "10432  I saw this product on \"DR.OZ\" TV show & though...  \n",
       "10433  Taking all the fat out of peanut butter and ch...  \n",
       "10434  I love it!! I am an avid peanut butter lover, ...  \n",
       "\n",
       "[10435 rows x 4 columns]"
      ]
     },
     "execution_count": 21,
     "metadata": {},
     "output_type": "execute_result"
    }
   ],
   "source": [
    "df = df.reset_index()\n",
    "df.drop(\"index\", axis=1, inplace=True)\n",
    "df"
   ]
  },
  {
   "cell_type": "code",
   "execution_count": 22,
   "metadata": {
    "colab": {
     "base_uri": "https://localhost:8080/"
    },
    "id": "XATh68PlEw3H",
    "outputId": "129b02ab-5490-487d-9232-32743492f5c8"
   },
   "outputs": [
    {
     "name": "stdout",
     "output_type": "stream",
     "text": [
      "Total products left in the dataset: 1040\n",
      "Total users left in the dataset: 2300\n"
     ]
    }
   ],
   "source": [
    "print(\"Total products left in the dataset:\",df[\"ProductId\"].nunique())\n",
    "print(\"Total users left in the dataset:\",df[\"UserId\"].nunique())"
   ]
  },
  {
   "cell_type": "markdown",
   "metadata": {
    "id": "RnW6__WZjOyf"
   },
   "source": [
    "<br>\n",
    "<br>\n",
    "\n"
   ]
  },
  {
   "cell_type": "markdown",
   "metadata": {
    "id": "VWlmN_vcx6Wc"
   },
   "source": [
    "## 3. Open Information Extraction: Create triples from the reviews"
   ]
  },
  {
   "cell_type": "markdown",
   "metadata": {
    "id": "OqgOIzcx_LhM"
   },
   "source": [
    "Examine the reviews"
   ]
  },
  {
   "cell_type": "code",
   "execution_count": 23,
   "metadata": {
    "colab": {
     "base_uri": "https://localhost:8080/",
     "height": 963
    },
    "id": "2zkr7c9bcIgo",
    "outputId": "b46641de-11b8-407d-a71f-021e30fa2282"
   },
   "outputs": [
    {
     "data": {
      "text/html": [
       "\n",
       "  <div id=\"df-567cd3d7-1a34-4ef7-b721-c4440a456c4a\">\n",
       "    <div class=\"colab-df-container\">\n",
       "      <div>\n",
       "<style scoped>\n",
       "    .dataframe tbody tr th:only-of-type {\n",
       "        vertical-align: middle;\n",
       "    }\n",
       "\n",
       "    .dataframe tbody tr th {\n",
       "        vertical-align: top;\n",
       "    }\n",
       "\n",
       "    .dataframe thead th {\n",
       "        text-align: right;\n",
       "    }\n",
       "</style>\n",
       "<table border=\"1\" class=\"dataframe\">\n",
       "  <thead>\n",
       "    <tr style=\"text-align: right;\">\n",
       "      <th></th>\n",
       "      <th>Text</th>\n",
       "    </tr>\n",
       "  </thead>\n",
       "  <tbody>\n",
       "    <tr>\n",
       "      <th>0</th>\n",
       "      <td>My dogs love these treats. The only problems I've encountered with these are the left over powder at the bottom and the sizes are not uniform; many big pieces and many very small pieces (very minor problems). But they are all natural an...</td>\n",
       "    </tr>\n",
       "    <tr>\n",
       "      <th>1</th>\n",
       "      <td>My dogs love this treat. I use it to train them and just for fun. The nice thing about this product is that if you want the pieces to be smaller, it's easy to cut them up without it crumbling apart. Also, it was a great deal.</td>\n",
       "    </tr>\n",
       "    <tr>\n",
       "      <th>2</th>\n",
       "      <td>ALL I DO IS SHAKE THIS CONTAINER AND MY DOG COMES RUNNING. SHE HAS HAD FOR OVER A YEAR AND PREFERS TO ALL TREATS AND FOOD. I FEEL GREAT AS THEY ARE GOOD FOR HER. THE PRICE SEEMS HEFTY BUT YOU CAN CUT THE PIECES UP EVEN THOUGH FREEZE DRI...</td>\n",
       "    </tr>\n",
       "    <tr>\n",
       "      <th>3</th>\n",
       "      <td>I've purchased several different brands of liver treats and this is the best in terms of having good-size pieces with very few small bits and little powder.</td>\n",
       "    </tr>\n",
       "    <tr>\n",
       "      <th>4</th>\n",
       "      <td>There's not much I can say that others haven't said. This is a really fun film, with good writing and a cool story, along with some fun characters and creative ideas about the afterlife. I usually don't give five stars, but this movie c...</td>\n",
       "    </tr>\n",
       "    <tr>\n",
       "      <th>5</th>\n",
       "      <td>THis product did not work in my home.  I do not think it was the product but we needed something different to combat fleas, like chemicals. THat's why I did not give it lower stars:  I appreciate the price and quick delivery.</td>\n",
       "    </tr>\n",
       "    <tr>\n",
       "      <th>6</th>\n",
       "      <td>I am not sure how bad my flea problem is, but I have seen a couple fleas on the pads. So it must work.</td>\n",
       "    </tr>\n",
       "    <tr>\n",
       "      <th>7</th>\n",
       "      <td>We put this on our patio to keep flies out of the house when we use the back door, and it has really worked. No flies at all getting in now!04-20-11 UPDATE: Stilll using these every Spring &amp; Summer for a \"no fly zone\" around our patio. ...</td>\n",
       "    </tr>\n",
       "    <tr>\n",
       "      <th>8</th>\n",
       "      <td>Very good little set of colors. Very vibrant colors as well. Great price when compared to supermarket.I am very pleased.</td>\n",
       "    </tr>\n",
       "    <tr>\n",
       "      <th>9</th>\n",
       "      <td>I could spend a year explaining how delightful it is to have all these colors and they are a good quality and excellent value. My daughter who loves to bake turned me on to these.You will have so much fun controlling and mixing and bein...</td>\n",
       "    </tr>\n",
       "    <tr>\n",
       "      <th>10</th>\n",
       "      <td>My dog liked everythin she recieved, and enjoyed the bones. And she liked the wiffle ball very much. These are great items, all of themThe Manufascturer can be very proud, olf all of these items.  My dog Sophie in Ohio.</td>\n",
       "    </tr>\n",
       "    <tr>\n",
       "      <th>11</th>\n",
       "      <td>My rat terrier is a fierce chewer, and the nylabone toys are great. She chews this dino every day and has only worn off part of the tail in a few weeks time.</td>\n",
       "    </tr>\n",
       "    <tr>\n",
       "      <th>12</th>\n",
       "      <td>We have two year old pit mixes and a 5 month old APBT, who are medium to aggressive in chew style. A lot of times the nylabones get overlooked or hidden deep under the couch, but this one was a cherished toy. Our male would carry this a...</td>\n",
       "    </tr>\n",
       "    <tr>\n",
       "      <th>13</th>\n",
       "      <td>looks gnarly but our dog loves to chew it.  after 4 months you can't tell it was a dino.  our dog loves to chew it and we hope its good for the teeth as it claims.  we also have the Nylabone Galileo Bone Dog Chew Toy, Wolf which is more...</td>\n",
       "    </tr>\n",
       "    <tr>\n",
       "      <th>14</th>\n",
       "      <td>My dog loves this food.  I will say i was skeptical at first since everyone talked about a new formula that was terrible.  Well, maybe this is a new formula but my dog loves it.  He has no problems eating and i can use this food as trea...</td>\n",
       "    </tr>\n",
       "    <tr>\n",
       "      <th>15</th>\n",
       "      <td>Our 3 cats will all eat this flavor of Wellness (a miracle in itself!) and I insist on them having it because we have a 12-year-old diabetic cat who should not have the cheap carbohydrates that are in cheap foods.</td>\n",
       "    </tr>\n",
       "    <tr>\n",
       "      <th>16</th>\n",
       "      <td>We have 3 large breed and one medium breed dogs in our household. Wanted to find a quality food they all liked, could digest well, and have no skin problems. This one seems to be fitting the bill so far. And they ALL just love it! Good ...</td>\n",
       "    </tr>\n",
       "    <tr>\n",
       "      <th>17</th>\n",
       "      <td>Its  a great idea and works as intended, unfortunetly even a small bit gives one of my dogs really bad runs. YIKES.  I might try a different flavor and see if it does not cause the same problem.</td>\n",
       "    </tr>\n",
       "    <tr>\n",
       "      <th>18</th>\n",
       "      <td>My puppy didn't like going to his crate in the mornings and he would scream until he finally wore himself out.  Enter the kong stuff'n.  Ever since I started filling his kong up with this stuff in the mornings, he can't wait to get into...</td>\n",
       "    </tr>\n",
       "    <tr>\n",
       "      <th>19</th>\n",
       "      <td>My dog and Puppy love it. A small amount goes a long way. ( follow directions will keep it under control)</td>\n",
       "    </tr>\n",
       "  </tbody>\n",
       "</table>\n",
       "</div>\n",
       "      <button class=\"colab-df-convert\" onclick=\"convertToInteractive('df-567cd3d7-1a34-4ef7-b721-c4440a456c4a')\"\n",
       "              title=\"Convert this dataframe to an interactive table.\"\n",
       "              style=\"display:none;\">\n",
       "        \n",
       "  <svg xmlns=\"http://www.w3.org/2000/svg\" height=\"24px\"viewBox=\"0 0 24 24\"\n",
       "       width=\"24px\">\n",
       "    <path d=\"M0 0h24v24H0V0z\" fill=\"none\"/>\n",
       "    <path d=\"M18.56 5.44l.94 2.06.94-2.06 2.06-.94-2.06-.94-.94-2.06-.94 2.06-2.06.94zm-11 1L8.5 8.5l.94-2.06 2.06-.94-2.06-.94L8.5 2.5l-.94 2.06-2.06.94zm10 10l.94 2.06.94-2.06 2.06-.94-2.06-.94-.94-2.06-.94 2.06-2.06.94z\"/><path d=\"M17.41 7.96l-1.37-1.37c-.4-.4-.92-.59-1.43-.59-.52 0-1.04.2-1.43.59L10.3 9.45l-7.72 7.72c-.78.78-.78 2.05 0 2.83L4 21.41c.39.39.9.59 1.41.59.51 0 1.02-.2 1.41-.59l7.78-7.78 2.81-2.81c.8-.78.8-2.07 0-2.86zM5.41 20L4 18.59l7.72-7.72 1.47 1.35L5.41 20z\"/>\n",
       "  </svg>\n",
       "      </button>\n",
       "      \n",
       "  <style>\n",
       "    .colab-df-container {\n",
       "      display:flex;\n",
       "      flex-wrap:wrap;\n",
       "      gap: 12px;\n",
       "    }\n",
       "\n",
       "    .colab-df-convert {\n",
       "      background-color: #E8F0FE;\n",
       "      border: none;\n",
       "      border-radius: 50%;\n",
       "      cursor: pointer;\n",
       "      display: none;\n",
       "      fill: #1967D2;\n",
       "      height: 32px;\n",
       "      padding: 0 0 0 0;\n",
       "      width: 32px;\n",
       "    }\n",
       "\n",
       "    .colab-df-convert:hover {\n",
       "      background-color: #E2EBFA;\n",
       "      box-shadow: 0px 1px 2px rgba(60, 64, 67, 0.3), 0px 1px 3px 1px rgba(60, 64, 67, 0.15);\n",
       "      fill: #174EA6;\n",
       "    }\n",
       "\n",
       "    [theme=dark] .colab-df-convert {\n",
       "      background-color: #3B4455;\n",
       "      fill: #D2E3FC;\n",
       "    }\n",
       "\n",
       "    [theme=dark] .colab-df-convert:hover {\n",
       "      background-color: #434B5C;\n",
       "      box-shadow: 0px 1px 3px 1px rgba(0, 0, 0, 0.15);\n",
       "      filter: drop-shadow(0px 1px 2px rgba(0, 0, 0, 0.3));\n",
       "      fill: #FFFFFF;\n",
       "    }\n",
       "  </style>\n",
       "\n",
       "      <script>\n",
       "        const buttonEl =\n",
       "          document.querySelector('#df-567cd3d7-1a34-4ef7-b721-c4440a456c4a button.colab-df-convert');\n",
       "        buttonEl.style.display =\n",
       "          google.colab.kernel.accessAllowed ? 'block' : 'none';\n",
       "\n",
       "        async function convertToInteractive(key) {\n",
       "          const element = document.querySelector('#df-567cd3d7-1a34-4ef7-b721-c4440a456c4a');\n",
       "          const dataTable =\n",
       "            await google.colab.kernel.invokeFunction('convertToInteractive',\n",
       "                                                     [key], {});\n",
       "          if (!dataTable) return;\n",
       "\n",
       "          const docLinkHtml = 'Like what you see? Visit the ' +\n",
       "            '<a target=\"_blank\" href=https://colab.research.google.com/notebooks/data_table.ipynb>data table notebook</a>'\n",
       "            + ' to learn more about interactive tables.';\n",
       "          element.innerHTML = '';\n",
       "          dataTable['output_type'] = 'display_data';\n",
       "          await google.colab.output.renderOutput(dataTable, element);\n",
       "          const docLink = document.createElement('div');\n",
       "          docLink.innerHTML = docLinkHtml;\n",
       "          element.appendChild(docLink);\n",
       "        }\n",
       "      </script>\n",
       "    </div>\n",
       "  </div>\n",
       "  "
      ],
      "text/plain": [
       "                                                                                                                                                                                                                                               Text\n",
       "0   My dogs love these treats. The only problems I've encountered with these are the left over powder at the bottom and the sizes are not uniform; many big pieces and many very small pieces (very minor problems). But they are all natural an...\n",
       "1                 My dogs love this treat. I use it to train them and just for fun. The nice thing about this product is that if you want the pieces to be smaller, it's easy to cut them up without it crumbling apart. Also, it was a great deal.\n",
       "2   ALL I DO IS SHAKE THIS CONTAINER AND MY DOG COMES RUNNING. SHE HAS HAD FOR OVER A YEAR AND PREFERS TO ALL TREATS AND FOOD. I FEEL GREAT AS THEY ARE GOOD FOR HER. THE PRICE SEEMS HEFTY BUT YOU CAN CUT THE PIECES UP EVEN THOUGH FREEZE DRI...\n",
       "3                                                                                      I've purchased several different brands of liver treats and this is the best in terms of having good-size pieces with very few small bits and little powder.\n",
       "4   There's not much I can say that others haven't said. This is a really fun film, with good writing and a cool story, along with some fun characters and creative ideas about the afterlife. I usually don't give five stars, but this movie c...\n",
       "5                 THis product did not work in my home.  I do not think it was the product but we needed something different to combat fleas, like chemicals. THat's why I did not give it lower stars:  I appreciate the price and quick delivery.\n",
       "6                                                                                                                                            I am not sure how bad my flea problem is, but I have seen a couple fleas on the pads. So it must work.\n",
       "7   We put this on our patio to keep flies out of the house when we use the back door, and it has really worked. No flies at all getting in now!04-20-11 UPDATE: Stilll using these every Spring & Summer for a \"no fly zone\" around our patio. ...\n",
       "8                                                                                                                          Very good little set of colors. Very vibrant colors as well. Great price when compared to supermarket.I am very pleased.\n",
       "9   I could spend a year explaining how delightful it is to have all these colors and they are a good quality and excellent value. My daughter who loves to bake turned me on to these.You will have so much fun controlling and mixing and bein...\n",
       "10                      My dog liked everythin she recieved, and enjoyed the bones. And she liked the wiffle ball very much. These are great items, all of themThe Manufascturer can be very proud, olf all of these items.  My dog Sophie in Ohio.\n",
       "11                                                                                    My rat terrier is a fierce chewer, and the nylabone toys are great. She chews this dino every day and has only worn off part of the tail in a few weeks time.\n",
       "12  We have two year old pit mixes and a 5 month old APBT, who are medium to aggressive in chew style. A lot of times the nylabones get overlooked or hidden deep under the couch, but this one was a cherished toy. Our male would carry this a...\n",
       "13  looks gnarly but our dog loves to chew it.  after 4 months you can't tell it was a dino.  our dog loves to chew it and we hope its good for the teeth as it claims.  we also have the Nylabone Galileo Bone Dog Chew Toy, Wolf which is more...\n",
       "14  My dog loves this food.  I will say i was skeptical at first since everyone talked about a new formula that was terrible.  Well, maybe this is a new formula but my dog loves it.  He has no problems eating and i can use this food as trea...\n",
       "15                            Our 3 cats will all eat this flavor of Wellness (a miracle in itself!) and I insist on them having it because we have a 12-year-old diabetic cat who should not have the cheap carbohydrates that are in cheap foods.\n",
       "16  We have 3 large breed and one medium breed dogs in our household. Wanted to find a quality food they all liked, could digest well, and have no skin problems. This one seems to be fitting the bill so far. And they ALL just love it! Good ...\n",
       "17                                               Its  a great idea and works as intended, unfortunetly even a small bit gives one of my dogs really bad runs. YIKES.  I might try a different flavor and see if it does not cause the same problem.\n",
       "18  My puppy didn't like going to his crate in the mornings and he would scream until he finally wore himself out.  Enter the kong stuff'n.  Ever since I started filling his kong up with this stuff in the mornings, he can't wait to get into...\n",
       "19                                                                                                                                        My dog and Puppy love it. A small amount goes a long way. ( follow directions will keep it under control)"
      ]
     },
     "metadata": {},
     "output_type": "display_data"
    }
   ],
   "source": [
    "from pandas import option_context\n",
    "\n",
    "df_reviews = df.filter(['Text'])\n",
    "with pd.option_context('display.max_colwidth', 240):\n",
    "    display(df_reviews.head(20))"
   ]
  },
  {
   "cell_type": "markdown",
   "metadata": {
    "id": "r8yMgZTb0SZl"
   },
   "source": [
    "Add an OIE tool to the spacy pipeline"
   ]
  },
  {
   "cell_type": "code",
   "execution_count": 24,
   "metadata": {
    "colab": {
     "base_uri": "https://localhost:8080/"
    },
    "id": "XzsNDQIpb_vf",
    "outputId": "da23a5be-6ee9-4fc4-fd97-02da9a847a99"
   },
   "outputs": [
    {
     "data": {
      "text/plain": [
       "[('tok2vec', <spacy.pipeline.tok2vec.Tok2Vec at 0x7ff920169a60>),\n",
       " ('tagger', <spacy.pipeline.tagger.Tagger at 0x7ff920169910>),\n",
       " ('parser', <spacy.pipeline.dep_parser.DependencyParser at 0x7ff91fe8bdd0>),\n",
       " ('attribute_ruler',\n",
       "  <spacy.pipeline.attributeruler.AttributeRuler at 0x7ff91fe9ca50>),\n",
       " ('lemmatizer',\n",
       "  <spacy.lang.en.lemmatizer.EnglishLemmatizer at 0x7ff91feba730>),\n",
       " ('ner', <spacy.pipeline.ner.EntityRecognizer at 0x7ff91fe8bed0>),\n",
       " ('claucy', <function claucy.claucy.extract_clauses_doc(doc)>)]"
      ]
     },
     "execution_count": 24,
     "metadata": {},
     "output_type": "execute_result"
    }
   ],
   "source": [
    "claucy.add_to_pipe(nlp) \n",
    "nlp.pipeline"
   ]
  },
  {
   "cell_type": "markdown",
   "metadata": {
    "id": "FdDQcxdG1Qx8"
   },
   "source": [
    "Create at most 3 triples (Subject - Verb - Object) from each review. For a few reviews only Subject-Verb tuples are found."
   ]
  },
  {
   "cell_type": "code",
   "execution_count": 25,
   "metadata": {
    "id": "0k98lSl7JceG"
   },
   "outputs": [],
   "source": [
    "\"\"\"\n",
    "Determines if the triple is suitable to be added to the propositions\n",
    "Arguments: clause (as created by claucy), propositions (list of all valid triples),\n",
    "           i (the i-th review examined), not_wanted (undesirable words for the subject of triple)\n",
    "\"\"\"\n",
    "\n",
    "def examine_clause(clause, propositions, i, not_wanted):\n",
    "  subj = (clause.subject).text.lower()\n",
    "  if clause._get_clause_type() is 'SV' or subj in not_wanted:\n",
    "    propositions[i].append(np.nan)\n",
    "  else:\n",
    "    propositions[i].append(clause.to_propositions(inflect=None)[0])"
   ]
  },
  {
   "cell_type": "code",
   "execution_count": 26,
   "metadata": {
    "colab": {
     "base_uri": "https://localhost:8080/"
    },
    "id": "6Xq5Bvkg_ggW",
    "outputId": "fcb16340-9a7c-4681-d16a-c6c36562e26e"
   },
   "outputs": [
    {
     "name": "stderr",
     "output_type": "stream",
     "text": [
      "100%|██████████| 10435/10435 [03:14<00:00, 53.58it/s]\n"
     ]
    }
   ],
   "source": [
    "\"\"\"\n",
    "Given a pandas columns of text reviews, extract at most 3 propositions from each review \n",
    "Arguments: df column of reviews, list of undesirable words for head entities, max number of triples extracted from each review\n",
    "Returns: propositions\n",
    "\"\"\"\n",
    "\n",
    "def extract_triples(df_text_col, not_wanted, num_triples=3):\n",
    "  \n",
    "  propositions=[]\n",
    "  i=0\n",
    "  for text in tqdm(df_text_col):\n",
    "    doc=nlp(text)\n",
    "\n",
    "    # if the review has at least 1 triple\n",
    "    if doc._.clauses:\n",
    "      propositions.append([])\n",
    "      subj = (doc._.clauses[0].subject).text.lower()\n",
    "      \n",
    "      # if the review has less than or 3 triples, add all of them\n",
    "      if len(doc._.clauses) <= num_triples:\n",
    "        for j in range(len(doc._.clauses)):\n",
    "          examine_clause(doc._.clauses[j], propositions, i, not_wanted)\n",
    "\n",
    "        # if only one triple was found, the positions of where the 2nd and 3rd triples would be saved must be filled with NaN\n",
    "        if j is not 2:\n",
    "          #need 3, reduce by one = 2\n",
    "          for k in range(j,num_triples-1):            \n",
    "            propositions[i].append(np.nan)\n",
    "\n",
    "      # if the review has more than 3 triples, add only 3 triples\n",
    "      else:\n",
    "        for j in range(num_triples):\n",
    "          examine_clause(doc._.clauses[j], propositions, i, not_wanted)\n",
    "    else: \n",
    "      propositions.append(np.nan)\n",
    "\n",
    "    #print(propositions[i])\n",
    "    i+=1\n",
    "\n",
    "  return propositions\n",
    "\n",
    "propositions = extract_triples(df[\"Text\"], ['who','you'])"
   ]
  },
  {
   "cell_type": "code",
   "execution_count": 27,
   "metadata": {
    "colab": {
     "base_uri": "https://localhost:8080/"
    },
    "id": "IrEKJciROpq9",
    "outputId": "f6896048-84c6-4270-a5dd-8cf302d69ce7"
   },
   "outputs": [
    {
     "data": {
      "text/plain": [
       "[[(My dogs, love, these treats), nan, (The only problems, are, the left)],\n",
       " [(My dogs, love, this treat),\n",
       "  (I, use, it, train, for),\n",
       "  (The nice thing, is, 's)],\n",
       " [nan, (ALL, IS, SHAKE), (SHE, HAS HAD, A YEAR)],\n",
       " [(I, 've purchased, several different brands), (this, is, the best), nan],\n",
       " [(I, can say, said), nan, (This, is, a really fun film)]]"
      ]
     },
     "execution_count": 27,
     "metadata": {},
     "output_type": "execute_result"
    }
   ],
   "source": [
    "# example of triples extracted, each row corresponds to a review, with commas are sperated the different triples extracted from each review\n",
    "propositions[0:5]"
   ]
  },
  {
   "cell_type": "code",
   "execution_count": 28,
   "metadata": {
    "id": "WEFvXIsvb5Bu"
   },
   "outputs": [],
   "source": [
    "\"\"\"\n",
    "Fuction to be used to get all the i-ths triples extracted from the reviews\n",
    "Arguments: propositions list, i-th column to extract review from\n",
    "Returns: a list with the i-th triple of each review\n",
    "\"\"\"\n",
    "def props_vertical_decomposition(propositions,col):\n",
    "  decomp_props=[]\n",
    "\n",
    "  for i in range(len(propositions)):  \n",
    "    if propositions[i] is not np.nan:\n",
    "      decomp_props.append(propositions[i][col])\n",
    "    else:\n",
    "      decomp_props.append(np.nan)\n",
    "\n",
    "  return decomp_props\n",
    "\n",
    "props0 = props_vertical_decomposition(propositions,0)\n",
    "props1 = props_vertical_decomposition(propositions,1)\n",
    "props2 = props_vertical_decomposition(propositions,2)"
   ]
  },
  {
   "cell_type": "code",
   "execution_count": 29,
   "metadata": {
    "id": "wHtjXwUA6zI-"
   },
   "outputs": [],
   "source": [
    "# create pandas columns that host all the first, all the second and all the third triples\n",
    "df[\"triples0\"] = props0\n",
    "df[\"triples1\"] = props1\n",
    "df[\"triples2\"] = props2"
   ]
  },
  {
   "cell_type": "markdown",
   "metadata": {
    "id": "Uhf09_y_0ebn"
   },
   "source": [
    "For reviews without verbs SVO triples won't be found"
   ]
  },
  {
   "cell_type": "code",
   "execution_count": 30,
   "metadata": {
    "colab": {
     "base_uri": "https://localhost:8080/",
     "height": 337
    },
    "id": "ENMx9cW1vxfO",
    "outputId": "402a6e48-bc64-4b01-eb5a-73ae98745074"
   },
   "outputs": [
    {
     "data": {
      "text/html": [
       "\n",
       "  <div id=\"df-d5a86169-15bb-45a5-bd89-28df522d7058\">\n",
       "    <div class=\"colab-df-container\">\n",
       "      <div>\n",
       "<style scoped>\n",
       "    .dataframe tbody tr th:only-of-type {\n",
       "        vertical-align: middle;\n",
       "    }\n",
       "\n",
       "    .dataframe tbody tr th {\n",
       "        vertical-align: top;\n",
       "    }\n",
       "\n",
       "    .dataframe thead th {\n",
       "        text-align: right;\n",
       "    }\n",
       "</style>\n",
       "<table border=\"1\" class=\"dataframe\">\n",
       "  <thead>\n",
       "    <tr style=\"text-align: right;\">\n",
       "      <th></th>\n",
       "      <th>ProductId</th>\n",
       "      <th>UserId</th>\n",
       "      <th>ProfileName</th>\n",
       "      <th>Text</th>\n",
       "      <th>triples0</th>\n",
       "      <th>triples1</th>\n",
       "      <th>triples2</th>\n",
       "    </tr>\n",
       "  </thead>\n",
       "  <tbody>\n",
       "    <tr>\n",
       "      <th>30</th>\n",
       "      <td>624</td>\n",
       "      <td>A3KJ9ONYM913Z</td>\n",
       "      <td>Jane Olson</td>\n",
       "      <td>Brussel's Golden Gate Ficus Indoor Bonsai Tree...</td>\n",
       "      <td>((Gate, Ficus, Indoor, Bonsai, TreeI), (am), (...</td>\n",
       "      <td>((I), (thought), (be))</td>\n",
       "      <td>((these), (be), (more, expensive))</td>\n",
       "    </tr>\n",
       "    <tr>\n",
       "      <th>31</th>\n",
       "      <td>632</td>\n",
       "      <td>A3A03I3P91BGH4</td>\n",
       "      <td>D. M. Pepper</td>\n",
       "      <td>Just got the most precious plant..SO beautiful...</td>\n",
       "      <td>NaN</td>\n",
       "      <td>NaN</td>\n",
       "      <td>NaN</td>\n",
       "    </tr>\n",
       "    <tr>\n",
       "      <th>32</th>\n",
       "      <td>658</td>\n",
       "      <td>A21TW3KGHTI1G0</td>\n",
       "      <td>cybershopper \"amazon junkie\"</td>\n",
       "      <td>I enjoyed this hot sauce.  It does have a kick...</td>\n",
       "      <td>((I), (enjoyed), (this, hot, sauce))</td>\n",
       "      <td>((It), (does, have), (a, kick))</td>\n",
       "      <td>((I), (found), (be))</td>\n",
       "    </tr>\n",
       "    <tr>\n",
       "      <th>33</th>\n",
       "      <td>745</td>\n",
       "      <td>A3OXHLG6DIBRW8</td>\n",
       "      <td>C. F. Hill \"CFH\"</td>\n",
       "      <td>\"Joseph's Original Sugar Free Maple Flavor Syr...</td>\n",
       "      <td>((Joseph, 's, Original, Sugar, Free, Maple, Fl...</td>\n",
       "      <td>((I), (Being), (diabetic))</td>\n",
       "      <td>((I), (have), (watch))</td>\n",
       "    </tr>\n",
       "    <tr>\n",
       "      <th>34</th>\n",
       "      <td>745</td>\n",
       "      <td>A1HNBS6ICM87LS</td>\n",
       "      <td>Customer</td>\n",
       "      <td>Best sugar-free syrup I've ever tasted - it's ...</td>\n",
       "      <td>((I), (tasted), (ever))</td>\n",
       "      <td>((it), ('s), (all))</td>\n",
       "      <td>NaN</td>\n",
       "    </tr>\n",
       "  </tbody>\n",
       "</table>\n",
       "</div>\n",
       "      <button class=\"colab-df-convert\" onclick=\"convertToInteractive('df-d5a86169-15bb-45a5-bd89-28df522d7058')\"\n",
       "              title=\"Convert this dataframe to an interactive table.\"\n",
       "              style=\"display:none;\">\n",
       "        \n",
       "  <svg xmlns=\"http://www.w3.org/2000/svg\" height=\"24px\"viewBox=\"0 0 24 24\"\n",
       "       width=\"24px\">\n",
       "    <path d=\"M0 0h24v24H0V0z\" fill=\"none\"/>\n",
       "    <path d=\"M18.56 5.44l.94 2.06.94-2.06 2.06-.94-2.06-.94-.94-2.06-.94 2.06-2.06.94zm-11 1L8.5 8.5l.94-2.06 2.06-.94-2.06-.94L8.5 2.5l-.94 2.06-2.06.94zm10 10l.94 2.06.94-2.06 2.06-.94-2.06-.94-.94-2.06-.94 2.06-2.06.94z\"/><path d=\"M17.41 7.96l-1.37-1.37c-.4-.4-.92-.59-1.43-.59-.52 0-1.04.2-1.43.59L10.3 9.45l-7.72 7.72c-.78.78-.78 2.05 0 2.83L4 21.41c.39.39.9.59 1.41.59.51 0 1.02-.2 1.41-.59l7.78-7.78 2.81-2.81c.8-.78.8-2.07 0-2.86zM5.41 20L4 18.59l7.72-7.72 1.47 1.35L5.41 20z\"/>\n",
       "  </svg>\n",
       "      </button>\n",
       "      \n",
       "  <style>\n",
       "    .colab-df-container {\n",
       "      display:flex;\n",
       "      flex-wrap:wrap;\n",
       "      gap: 12px;\n",
       "    }\n",
       "\n",
       "    .colab-df-convert {\n",
       "      background-color: #E8F0FE;\n",
       "      border: none;\n",
       "      border-radius: 50%;\n",
       "      cursor: pointer;\n",
       "      display: none;\n",
       "      fill: #1967D2;\n",
       "      height: 32px;\n",
       "      padding: 0 0 0 0;\n",
       "      width: 32px;\n",
       "    }\n",
       "\n",
       "    .colab-df-convert:hover {\n",
       "      background-color: #E2EBFA;\n",
       "      box-shadow: 0px 1px 2px rgba(60, 64, 67, 0.3), 0px 1px 3px 1px rgba(60, 64, 67, 0.15);\n",
       "      fill: #174EA6;\n",
       "    }\n",
       "\n",
       "    [theme=dark] .colab-df-convert {\n",
       "      background-color: #3B4455;\n",
       "      fill: #D2E3FC;\n",
       "    }\n",
       "\n",
       "    [theme=dark] .colab-df-convert:hover {\n",
       "      background-color: #434B5C;\n",
       "      box-shadow: 0px 1px 3px 1px rgba(0, 0, 0, 0.15);\n",
       "      filter: drop-shadow(0px 1px 2px rgba(0, 0, 0, 0.3));\n",
       "      fill: #FFFFFF;\n",
       "    }\n",
       "  </style>\n",
       "\n",
       "      <script>\n",
       "        const buttonEl =\n",
       "          document.querySelector('#df-d5a86169-15bb-45a5-bd89-28df522d7058 button.colab-df-convert');\n",
       "        buttonEl.style.display =\n",
       "          google.colab.kernel.accessAllowed ? 'block' : 'none';\n",
       "\n",
       "        async function convertToInteractive(key) {\n",
       "          const element = document.querySelector('#df-d5a86169-15bb-45a5-bd89-28df522d7058');\n",
       "          const dataTable =\n",
       "            await google.colab.kernel.invokeFunction('convertToInteractive',\n",
       "                                                     [key], {});\n",
       "          if (!dataTable) return;\n",
       "\n",
       "          const docLinkHtml = 'Like what you see? Visit the ' +\n",
       "            '<a target=\"_blank\" href=https://colab.research.google.com/notebooks/data_table.ipynb>data table notebook</a>'\n",
       "            + ' to learn more about interactive tables.';\n",
       "          element.innerHTML = '';\n",
       "          dataTable['output_type'] = 'display_data';\n",
       "          await google.colab.output.renderOutput(dataTable, element);\n",
       "          const docLink = document.createElement('div');\n",
       "          docLink.innerHTML = docLinkHtml;\n",
       "          element.appendChild(docLink);\n",
       "        }\n",
       "      </script>\n",
       "    </div>\n",
       "  </div>\n",
       "  "
      ],
      "text/plain": [
       "    ProductId          UserId                   ProfileName  \\\n",
       "30        624   A3KJ9ONYM913Z                    Jane Olson   \n",
       "31        632  A3A03I3P91BGH4                  D. M. Pepper   \n",
       "32        658  A21TW3KGHTI1G0  cybershopper \"amazon junkie\"   \n",
       "33        745  A3OXHLG6DIBRW8              C. F. Hill \"CFH\"   \n",
       "34        745  A1HNBS6ICM87LS                      Customer   \n",
       "\n",
       "                                                 Text  \\\n",
       "30  Brussel's Golden Gate Ficus Indoor Bonsai Tree...   \n",
       "31  Just got the most precious plant..SO beautiful...   \n",
       "32  I enjoyed this hot sauce.  It does have a kick...   \n",
       "33  \"Joseph's Original Sugar Free Maple Flavor Syr...   \n",
       "34  Best sugar-free syrup I've ever tasted - it's ...   \n",
       "\n",
       "                                             triples0  \\\n",
       "30  ((Gate, Ficus, Indoor, Bonsai, TreeI), (am), (...   \n",
       "31                                                NaN   \n",
       "32               ((I), (enjoyed), (this, hot, sauce))   \n",
       "33  ((Joseph, 's, Original, Sugar, Free, Maple, Fl...   \n",
       "34                            ((I), (tasted), (ever))   \n",
       "\n",
       "                           triples1                            triples2  \n",
       "30           ((I), (thought), (be))  ((these), (be), (more, expensive))  \n",
       "31                              NaN                                 NaN  \n",
       "32  ((It), (does, have), (a, kick))                ((I), (found), (be))  \n",
       "33       ((I), (Being), (diabetic))              ((I), (have), (watch))  \n",
       "34              ((it), ('s), (all))                                 NaN  "
      ]
     },
     "execution_count": 30,
     "metadata": {},
     "output_type": "execute_result"
    }
   ],
   "source": [
    "df.iloc[30:35]"
   ]
  },
  {
   "cell_type": "markdown",
   "metadata": {
    "id": "O6xjP6ixEV8Q"
   },
   "source": [
    "Define the stop words. Some regular stopwords should not be removed here because they refer to entities or define the emotion."
   ]
  },
  {
   "cell_type": "code",
   "execution_count": 31,
   "metadata": {
    "colab": {
     "base_uri": "https://localhost:8080/"
    },
    "id": "_UdG-gMtFAoP",
    "outputId": "92925c3b-0cfc-41a0-9fe1-4c43a65a8d5a"
   },
   "outputs": [
    {
     "name": "stderr",
     "output_type": "stream",
     "text": [
      "[nltk_data] Downloading package stopwords to /root/nltk_data...\n",
      "[nltk_data]   Unzipping corpora/stopwords.zip.\n"
     ]
    }
   ],
   "source": [
    "nltk.download('stopwords')\n",
    "english_stops = set(stopwords.words('english'))\n",
    "english_stops.difference_update(set(['i','we','it','this','not','no']))\n"
   ]
  },
  {
   "cell_type": "code",
   "execution_count": 32,
   "metadata": {
    "id": "sipf_jZ-ieqa"
   },
   "outputs": [],
   "source": [
    "\"\"\"\n",
    "Initialize 3 empty lists each of length equal to the number of df rows\n",
    "\"\"\"\n",
    "\n",
    "def initialize_hrt(df_rows):\n",
    "  head=[]\n",
    "  relation=[]\n",
    "  tail=[]\n",
    "\n",
    "  for i in range(df_rows):\n",
    "    head.append(\"\")\n",
    "    relation.append(\"\")\n",
    "    tail.append(\"\")\n",
    "\n",
    "  return head, relation, tail\n",
    "\n",
    "head0, relation0, tail0 = initialize_hrt(df.shape[0])\n",
    "head1, relation1, tail1 = initialize_hrt(df.shape[0])\n",
    "head2, relation2, tail2 = initialize_hrt(df.shape[0])"
   ]
  },
  {
   "cell_type": "code",
   "execution_count": 33,
   "metadata": {
    "id": "WGtPoc9_rn49"
   },
   "outputs": [],
   "source": [
    "\"\"\"\n",
    "Get lemma of verb\n",
    "eg.(was --> be), (has bought --> buy)\n",
    "\"\"\"\n",
    "\n",
    "def lemmatize_phrase_verb(text):\n",
    "  doc = nlp(text)\n",
    "  empty_list = []\n",
    "  for token in doc:\n",
    "    if token.dep_ == 'ROOT': \n",
    "      empty_list.append(token.lemma_)\n",
    "  return str(' '.join(map(str,empty_list)))"
   ]
  },
  {
   "cell_type": "code",
   "execution_count": 34,
   "metadata": {
    "id": "_-ZM0yMmTJAW"
   },
   "outputs": [],
   "source": [
    "\"\"\"\n",
    " De-punctuate a spacy span and return it as str\n",
    "\"\"\"\n",
    "def depunctuate(tail_spacy_span):\n",
    "\n",
    "  text_tail = [tok for tok in tail_spacy_span if not str(tok).lower() in english_stops]\n",
    "  text_tail = ' '.join(map(str,text_tail))\n",
    "  return text_tail"
   ]
  },
  {
   "cell_type": "markdown",
   "metadata": {
    "id": "PIwCCpQtyC5N"
   },
   "source": [
    "Decide which triples will populate the knowledge graph. As the automated Open IE from unstructured text is a difficult task, not every extracted triple is semantically correct and thus cannot can be used. Some rules will be defined in order to determine which triples are eligible."
   ]
  },
  {
   "cell_type": "code",
   "execution_count": 35,
   "metadata": {
    "id": "VP2Nh5R6XzOw"
   },
   "outputs": [],
   "source": [
    "\"\"\"\n",
    "Choose which triples will populate the knowledge graph and in what form\n",
    "1. Triples including 'My' OR having 'I' as the head entity AND NOT having 'is' or 'have' as relation\n",
    "   will be saved in the kg as (UserId, lemma of relation, ProductId) \n",
    "2. Triples including 'These' or 'This' or 'It' in the head entity\n",
    "   will be saved in the kg as (ProductId, lemma of relation, subjective characterization) \n",
    "\"\"\"\n",
    "\n",
    "def populate_kg(df, col, head, relation, tail):\n",
    "\n",
    "  for i in range(df.shape[0]):\n",
    "    triples_num='triples'+str(col)\n",
    "    \n",
    "    text = df[triples_num].iloc[i]\n",
    "    \n",
    "    # If a triple was extracted from the sentence\n",
    "    if text is not np.nan:\n",
    "\n",
    "      # If the triple is complete and not just a Subject-Verb\n",
    "      if len(text)>=3:\n",
    "        \n",
    "        if str(text[0]) is \"I\" or \"My\" in str(text[0]):\n",
    "          if str(text[1]) is not \"is\" and str(text[1]) is not \"have\":\n",
    "            head[i]=df[\"UserId\"].iloc[i]\n",
    "            relation[i] = lemmatize_phrase_verb(str(df[triples_num].iloc[i][1]))\n",
    "            tail[i]=df[\"ProductId\"].iloc[i]\n",
    "        else:\n",
    "\n",
    "          prod_identifiers = ['This', 'These', 'It', 'this', 'these']\n",
    "          for pi in prod_identifiers:\n",
    "            if pi in str(text[0]):\n",
    "              head[i]=df[\"ProductId\"].iloc[i]\n",
    "              relation[i] = lemmatize_phrase_verb(str(df[triples_num].iloc[i][1]))\n",
    "              tail[i] = depunctuate(df[triples_num].iloc[i][2])\n",
    "              break\n",
    "\n",
    "  return head,relation,tail"
   ]
  },
  {
   "cell_type": "code",
   "execution_count": 36,
   "metadata": {
    "id": "8oUBMAew9ZVN"
   },
   "outputs": [],
   "source": [
    "head0, relation0, tail0 = populate_kg(df, 0, head0, relation0, tail0)\n",
    "head1, relation1, tail1 = populate_kg(df, 1, head1, relation1, tail1)\n",
    "head2, relation2, tail2 = populate_kg(df, 2, head2, relation2, tail2)"
   ]
  },
  {
   "cell_type": "code",
   "execution_count": 37,
   "metadata": {
    "id": "Y_3czqKBx6JT"
   },
   "outputs": [],
   "source": [
    "# join the lists\n",
    "head = head0+head1+head2\n",
    "relation = relation0+relation1+relation2\n",
    "tail = tail0+tail1+tail2"
   ]
  },
  {
   "cell_type": "markdown",
   "metadata": {
    "id": "BF7TBAmz92Xj"
   },
   "source": [
    "<br>"
   ]
  },
  {
   "cell_type": "markdown",
   "metadata": {
    "id": "Lx487XzeC3js"
   },
   "source": [
    "## 4. Create Knowledge Graph"
   ]
  },
  {
   "cell_type": "code",
   "execution_count": 38,
   "metadata": {
    "id": "P0lWlDkgL5US"
   },
   "outputs": [],
   "source": [
    "# create sparse knowledge graph\n",
    "kg_df_sparse = pd.DataFrame({'source':head, 'edge':relation, 'target':tail})"
   ]
  },
  {
   "cell_type": "code",
   "execution_count": 39,
   "metadata": {
    "colab": {
     "base_uri": "https://localhost:8080/",
     "height": 676
    },
    "id": "vRN-Y_mlWq1F",
    "outputId": "3ad6b2b8-c2d4-4432-bb82-eb3e64973fc0"
   },
   "outputs": [
    {
     "data": {
      "text/html": [
       "\n",
       "  <div id=\"df-d677a4f5-0191-4de7-aff2-82e79f70d056\">\n",
       "    <div class=\"colab-df-container\">\n",
       "      <div>\n",
       "<style scoped>\n",
       "    .dataframe tbody tr th:only-of-type {\n",
       "        vertical-align: middle;\n",
       "    }\n",
       "\n",
       "    .dataframe tbody tr th {\n",
       "        vertical-align: top;\n",
       "    }\n",
       "\n",
       "    .dataframe thead th {\n",
       "        text-align: right;\n",
       "    }\n",
       "</style>\n",
       "<table border=\"1\" class=\"dataframe\">\n",
       "  <thead>\n",
       "    <tr style=\"text-align: right;\">\n",
       "      <th></th>\n",
       "      <th>source</th>\n",
       "      <th>edge</th>\n",
       "      <th>target</th>\n",
       "    </tr>\n",
       "  </thead>\n",
       "  <tbody>\n",
       "    <tr>\n",
       "      <th>1120</th>\n",
       "      <td></td>\n",
       "      <td></td>\n",
       "      <td></td>\n",
       "    </tr>\n",
       "    <tr>\n",
       "      <th>1121</th>\n",
       "      <td>A2RPVYLTOWGGRP</td>\n",
       "      <td>get</td>\n",
       "      <td>8247</td>\n",
       "    </tr>\n",
       "    <tr>\n",
       "      <th>1122</th>\n",
       "      <td>A5ZD6FBMZQGDS</td>\n",
       "      <td>have</td>\n",
       "      <td>8247</td>\n",
       "    </tr>\n",
       "    <tr>\n",
       "      <th>1123</th>\n",
       "      <td>A1437CAM9CNC1E</td>\n",
       "      <td>remember</td>\n",
       "      <td>8247</td>\n",
       "    </tr>\n",
       "    <tr>\n",
       "      <th>1124</th>\n",
       "      <td>A5AZYUMD2HKAA</td>\n",
       "      <td>have</td>\n",
       "      <td>8247</td>\n",
       "    </tr>\n",
       "    <tr>\n",
       "      <th>1125</th>\n",
       "      <td>8328</td>\n",
       "      <td>be</td>\n",
       "      <td>nutritious tasty way</td>\n",
       "    </tr>\n",
       "    <tr>\n",
       "      <th>1126</th>\n",
       "      <td></td>\n",
       "      <td></td>\n",
       "      <td></td>\n",
       "    </tr>\n",
       "    <tr>\n",
       "      <th>1127</th>\n",
       "      <td></td>\n",
       "      <td></td>\n",
       "      <td></td>\n",
       "    </tr>\n",
       "    <tr>\n",
       "      <th>1128</th>\n",
       "      <td>A1SB8CXAUIKT8X</td>\n",
       "      <td>be</td>\n",
       "      <td>8334</td>\n",
       "    </tr>\n",
       "    <tr>\n",
       "      <th>1129</th>\n",
       "      <td></td>\n",
       "      <td></td>\n",
       "      <td></td>\n",
       "    </tr>\n",
       "    <tr>\n",
       "      <th>1130</th>\n",
       "      <td></td>\n",
       "      <td></td>\n",
       "      <td></td>\n",
       "    </tr>\n",
       "    <tr>\n",
       "      <th>1131</th>\n",
       "      <td>8334</td>\n",
       "      <td>be</td>\n",
       "      <td>best cookies</td>\n",
       "    </tr>\n",
       "    <tr>\n",
       "      <th>1132</th>\n",
       "      <td>8334</td>\n",
       "      <td>be</td>\n",
       "      <td></td>\n",
       "    </tr>\n",
       "    <tr>\n",
       "      <th>1133</th>\n",
       "      <td>8334</td>\n",
       "      <td>buy</td>\n",
       "      <td>box</td>\n",
       "    </tr>\n",
       "    <tr>\n",
       "      <th>1134</th>\n",
       "      <td></td>\n",
       "      <td></td>\n",
       "      <td></td>\n",
       "    </tr>\n",
       "    <tr>\n",
       "      <th>1135</th>\n",
       "      <td></td>\n",
       "      <td></td>\n",
       "      <td></td>\n",
       "    </tr>\n",
       "    <tr>\n",
       "      <th>1136</th>\n",
       "      <td></td>\n",
       "      <td></td>\n",
       "      <td></td>\n",
       "    </tr>\n",
       "    <tr>\n",
       "      <th>1137</th>\n",
       "      <td>8334</td>\n",
       "      <td>appear</td>\n",
       "      <td></td>\n",
       "    </tr>\n",
       "    <tr>\n",
       "      <th>1138</th>\n",
       "      <td></td>\n",
       "      <td></td>\n",
       "      <td></td>\n",
       "    </tr>\n",
       "    <tr>\n",
       "      <th>1139</th>\n",
       "      <td>8334</td>\n",
       "      <td>be</td>\n",
       "      <td>soo good</td>\n",
       "    </tr>\n",
       "  </tbody>\n",
       "</table>\n",
       "</div>\n",
       "      <button class=\"colab-df-convert\" onclick=\"convertToInteractive('df-d677a4f5-0191-4de7-aff2-82e79f70d056')\"\n",
       "              title=\"Convert this dataframe to an interactive table.\"\n",
       "              style=\"display:none;\">\n",
       "        \n",
       "  <svg xmlns=\"http://www.w3.org/2000/svg\" height=\"24px\"viewBox=\"0 0 24 24\"\n",
       "       width=\"24px\">\n",
       "    <path d=\"M0 0h24v24H0V0z\" fill=\"none\"/>\n",
       "    <path d=\"M18.56 5.44l.94 2.06.94-2.06 2.06-.94-2.06-.94-.94-2.06-.94 2.06-2.06.94zm-11 1L8.5 8.5l.94-2.06 2.06-.94-2.06-.94L8.5 2.5l-.94 2.06-2.06.94zm10 10l.94 2.06.94-2.06 2.06-.94-2.06-.94-.94-2.06-.94 2.06-2.06.94z\"/><path d=\"M17.41 7.96l-1.37-1.37c-.4-.4-.92-.59-1.43-.59-.52 0-1.04.2-1.43.59L10.3 9.45l-7.72 7.72c-.78.78-.78 2.05 0 2.83L4 21.41c.39.39.9.59 1.41.59.51 0 1.02-.2 1.41-.59l7.78-7.78 2.81-2.81c.8-.78.8-2.07 0-2.86zM5.41 20L4 18.59l7.72-7.72 1.47 1.35L5.41 20z\"/>\n",
       "  </svg>\n",
       "      </button>\n",
       "      \n",
       "  <style>\n",
       "    .colab-df-container {\n",
       "      display:flex;\n",
       "      flex-wrap:wrap;\n",
       "      gap: 12px;\n",
       "    }\n",
       "\n",
       "    .colab-df-convert {\n",
       "      background-color: #E8F0FE;\n",
       "      border: none;\n",
       "      border-radius: 50%;\n",
       "      cursor: pointer;\n",
       "      display: none;\n",
       "      fill: #1967D2;\n",
       "      height: 32px;\n",
       "      padding: 0 0 0 0;\n",
       "      width: 32px;\n",
       "    }\n",
       "\n",
       "    .colab-df-convert:hover {\n",
       "      background-color: #E2EBFA;\n",
       "      box-shadow: 0px 1px 2px rgba(60, 64, 67, 0.3), 0px 1px 3px 1px rgba(60, 64, 67, 0.15);\n",
       "      fill: #174EA6;\n",
       "    }\n",
       "\n",
       "    [theme=dark] .colab-df-convert {\n",
       "      background-color: #3B4455;\n",
       "      fill: #D2E3FC;\n",
       "    }\n",
       "\n",
       "    [theme=dark] .colab-df-convert:hover {\n",
       "      background-color: #434B5C;\n",
       "      box-shadow: 0px 1px 3px 1px rgba(0, 0, 0, 0.15);\n",
       "      filter: drop-shadow(0px 1px 2px rgba(0, 0, 0, 0.3));\n",
       "      fill: #FFFFFF;\n",
       "    }\n",
       "  </style>\n",
       "\n",
       "      <script>\n",
       "        const buttonEl =\n",
       "          document.querySelector('#df-d677a4f5-0191-4de7-aff2-82e79f70d056 button.colab-df-convert');\n",
       "        buttonEl.style.display =\n",
       "          google.colab.kernel.accessAllowed ? 'block' : 'none';\n",
       "\n",
       "        async function convertToInteractive(key) {\n",
       "          const element = document.querySelector('#df-d677a4f5-0191-4de7-aff2-82e79f70d056');\n",
       "          const dataTable =\n",
       "            await google.colab.kernel.invokeFunction('convertToInteractive',\n",
       "                                                     [key], {});\n",
       "          if (!dataTable) return;\n",
       "\n",
       "          const docLinkHtml = 'Like what you see? Visit the ' +\n",
       "            '<a target=\"_blank\" href=https://colab.research.google.com/notebooks/data_table.ipynb>data table notebook</a>'\n",
       "            + ' to learn more about interactive tables.';\n",
       "          element.innerHTML = '';\n",
       "          dataTable['output_type'] = 'display_data';\n",
       "          await google.colab.output.renderOutput(dataTable, element);\n",
       "          const docLink = document.createElement('div');\n",
       "          docLink.innerHTML = docLinkHtml;\n",
       "          element.appendChild(docLink);\n",
       "        }\n",
       "      </script>\n",
       "    </div>\n",
       "  </div>\n",
       "  "
      ],
      "text/plain": [
       "              source      edge                target\n",
       "1120                                                \n",
       "1121  A2RPVYLTOWGGRP       get                  8247\n",
       "1122   A5ZD6FBMZQGDS      have                  8247\n",
       "1123  A1437CAM9CNC1E  remember                  8247\n",
       "1124   A5AZYUMD2HKAA      have                  8247\n",
       "1125            8328        be  nutritious tasty way\n",
       "1126                                                \n",
       "1127                                                \n",
       "1128  A1SB8CXAUIKT8X        be                  8334\n",
       "1129                                                \n",
       "1130                                                \n",
       "1131            8334        be          best cookies\n",
       "1132            8334        be                      \n",
       "1133            8334       buy                   box\n",
       "1134                                                \n",
       "1135                                                \n",
       "1136                                                \n",
       "1137            8334    appear                      \n",
       "1138                                                \n",
       "1139            8334        be              soo good"
      ]
     },
     "execution_count": 39,
     "metadata": {},
     "output_type": "execute_result"
    }
   ],
   "source": [
    "kg_df_sparse.iloc[1120:1140]"
   ]
  },
  {
   "cell_type": "markdown",
   "metadata": {
    "id": "5B8nbTFY0EtS"
   },
   "source": [
    "Throw empty triples out of the knowledge graph. <b>Now the final knowledge graph is ready!</b>"
   ]
  },
  {
   "cell_type": "code",
   "execution_count": 40,
   "metadata": {
    "id": "YZlftw1gn33U"
   },
   "outputs": [],
   "source": [
    "nan_value = float(\"NaN\")\n",
    "kg_df_sparse.replace(\"\", nan_value, inplace=True)\n",
    "kg_df = kg_df_sparse.dropna(axis=0).reset_index(drop=True)"
   ]
  },
  {
   "cell_type": "code",
   "execution_count": 42,
   "metadata": {
    "colab": {
     "base_uri": "https://localhost:8080/"
    },
    "id": "hURuBLaxpR5t",
    "outputId": "17c77cf6-3801-46a7-e1ff-9422fe11c895"
   },
   "outputs": [
    {
     "data": {
      "text/plain": [
       "array([['A263978BIOCRZV', 'love', 4],\n",
       "       ['A30M06JH5R1831', 'love', 4],\n",
       "       ['A39FLPUWTNESK0', 'purchase', 4],\n",
       "       ...,\n",
       "       ['AH34Q0NYD4SSP', 'give', 58785],\n",
       "       ['A38TPUN6VBAYYP', 'recommend', 58785],\n",
       "       ['A3K9Q3WL0OF7N1', 'need', 58785]], dtype=object)"
      ]
     },
     "execution_count": 42,
     "metadata": {},
     "output_type": "execute_result"
    }
   ],
   "source": [
    "kg_df.values"
   ]
  },
  {
   "cell_type": "code",
   "execution_count": null,
   "metadata": {
    "colab": {
     "base_uri": "https://localhost:8080/"
    },
    "id": "yasQESTKgR7n",
    "outputId": "632e6d2a-7a8c-4bba-e40f-59e125fd022d"
   },
   "outputs": [
    {
     "data": {
      "text/plain": [
       "(14865, 3)"
      ]
     },
     "execution_count": 42,
     "metadata": {},
     "output_type": "execute_result"
    }
   ],
   "source": [
    "kg_df.shape"
   ]
  },
  {
   "cell_type": "markdown",
   "metadata": {
    "id": "q1dnLw_lzT5q"
   },
   "source": [
    "Create entities and relations dictionaries"
   ]
  },
  {
   "cell_type": "code",
   "execution_count": 41,
   "metadata": {
    "id": "m_Kb6Nx5XGh-"
   },
   "outputs": [],
   "source": [
    "source_list=list(kg_df['source'])\n",
    "target_list=list(kg_df['target'])\n",
    "edge_list=list(kg_df['edge'])\n",
    "\n",
    "entities_list=source_list+target_list"
   ]
  },
  {
   "cell_type": "markdown",
   "metadata": {
    "id": "b8Gj6ib58Xpf"
   },
   "source": [
    "## 5. Visualize data with Gephi"
   ]
  },
  {
   "cell_type": "markdown",
   "metadata": {
    "id": "boWK6eUtHl19"
   },
   "source": [
    "Create an in-degree directed graph by exporting the csv file to gephi. Clustering layout by modularity. Layout: ForceAtlas2"
   ]
  },
  {
   "cell_type": "code",
   "execution_count": null,
   "metadata": {
    "id": "52TcMk_F_y80"
   },
   "outputs": [],
   "source": [
    "#kg_df.to_csv('kg_df.csv', index = False, header=True)"
   ]
  },
  {
   "cell_type": "markdown",
   "metadata": {
    "id": "FCnEy-hSBfLv"
   },
   "source": [
    "![](https://drive.google.com/uc?export=view&id=1tVV8aeoTlDg1nk3-s2PGT-N57GXhYCG9)"
   ]
  },
  {
   "cell_type": "code",
   "execution_count": 43,
   "metadata": {
    "colab": {
     "base_uri": "https://localhost:8080/"
    },
    "id": "RYUQ3xHTSeYG",
    "outputId": "5e5cccba-f3ea-4083-a9cc-b9fc4321a849"
   },
   "outputs": [
    {
     "data": {
      "text/plain": [
       "         16120\n",
       "be        4899\n",
       "have      1090\n",
       "love      1080\n",
       "like       779\n",
       "try        495\n",
       "taste      431\n",
       "dtype: int64"
      ]
     },
     "execution_count": 43,
     "metadata": {},
     "output_type": "execute_result"
    }
   ],
   "source": [
    "# Get the 7 most common relations, the whitespace relation is the nan value and thus ommited\n",
    "pd.Series(relation).value_counts()[:7]"
   ]
  },
  {
   "cell_type": "code",
   "execution_count": 44,
   "metadata": {
    "colab": {
     "base_uri": "https://localhost:8080/",
     "height": 404
    },
    "id": "6qEdw-w7XtOg",
    "outputId": "0de5da60-478f-43ab-8aeb-080198031d1d"
   },
   "outputs": [
    {
     "data": {
      "image/png": "[encoded data removed]",
      "text/plain": [
       "<Figure size 576x432 with 1 Axes>"
      ]
     },
     "metadata": {
      "needs_background": "light"
     },
     "output_type": "display_data"
    }
   ],
   "source": [
    "import matplotlib.pyplot as plt\n",
    "  \n",
    "values = pd.Series(relation).value_counts()[:7].values[1:]\n",
    "relations = [\"be\", \"have\", \"love\", \"like\", \"try\",\"taste\"]  \n",
    "\n",
    "fig = plt.figure(figsize = (8, 6))\n",
    " \n",
    "# creating the bar plot\n",
    "colors = ['#9EE4D9','#a28089','#d0bdf4','#8458B3','#d3daeb','#4F726C']\n",
    "plt.bar(relations, values, color =colors,\n",
    "        width = 0.4)\n",
    " \n",
    "plt.xlabel(\"Relations\")\n",
    "plt.ylabel(\"Occurences\")\n",
    "plt.grid(axis = 'y', color='slateblue', linestyle = '--', linewidth = 0.2)\n",
    "plt.title(\"Most common relations in the knowledge graph\")\n",
    "plt.show()"
   ]
  },
  {
   "cell_type": "code",
   "execution_count": 45,
   "metadata": {
    "colab": {
     "base_uri": "https://localhost:8080/",
     "height": 319
    },
    "id": "Kprvcmy5hEws",
    "outputId": "d9644a11-75eb-4553-d382-9adcb84d8afa"
   },
   "outputs": [
    {
     "data": {
      "image/png": "[encoded data removed]",
      "text/plain": [
       "<Figure size 432x360 with 1 Axes>"
      ]
     },
     "metadata": {},
     "output_type": "display_data"
    }
   ],
   "source": [
    "# Pie chart, where the slices will be ordered and plotted counter-clockwise:\n",
    "\n",
    "labels = 'Only-once', 'Usual'\n",
    "size_all = len(pd.Series(relation).value_counts().values)\n",
    "size_onlyonce = np.count_nonzero(pd.Series(relation).value_counts().values == 1)\n",
    "size_usual = size_all-size_onlyonce\n",
    "\n",
    "sizes = [size_onlyonce/size_all, size_usual/size_all]\n",
    "explode = (0, 0.1)  # only \"explode\" the 2nd slice (i.e. 'Hogs')\n",
    "\n",
    "fig1, ax1 = plt.subplots(figsize=(6, 5))\n",
    "ax1.pie(sizes, explode=explode, labels=labels, autopct='%1.1f%%',\n",
    "        shadow=True, startangle=90, colors=['#a28089','#8458B3'])\n",
    "ax1.axis('equal')  # Equal aspect ratio ensures that pie is drawn as a circle.\n",
    "\n",
    "plt.title(\"Percentage of usual vs only-once-found relations\")\n",
    "plt.show()"
   ]
  },
  {
   "cell_type": "markdown",
   "metadata": {
    "id": "3QiUrbHxkhuW"
   },
   "source": [
    "## 6. Preprocess data to insert into model"
   ]
  },
  {
   "cell_type": "markdown",
   "metadata": {
    "id": "1tumn-tCarkh"
   },
   "source": [
    "Remove empty entites and relations and write the entities and the relation to seperate dictionaries."
   ]
  },
  {
   "cell_type": "code",
   "execution_count": 46,
   "metadata": {
    "id": "-oWaLYeTjz7R"
   },
   "outputs": [],
   "source": [
    "edge_clean_list = [i for i in edge_list if i is not '']\n",
    "dictOfRelations = { i : edge_clean_list[i] for i in range(0, len(edge_clean_list) ) }\n",
    "\n",
    "relations_dict = {}\n",
    "key = 0\n",
    "for _,value in dictOfRelations.items():\n",
    "    if value not in relations_dict.values():\n",
    "        relations_dict[key] = value\n",
    "        key+=1"
   ]
  },
  {
   "cell_type": "code",
   "execution_count": 47,
   "metadata": {
    "id": "r7ZlUOaslmos"
   },
   "outputs": [],
   "source": [
    "entities_clean_list = [i for i in entities_list if i is not '']\n",
    "dictOfEntities = { i : entities_clean_list[i] for i in range(0, len(entities_clean_list) ) }\n",
    "\n",
    "entities_dict = {}\n",
    "key=0\n",
    "for _,value in dictOfEntities.items():\n",
    "    if value not in entities_dict.values():\n",
    "        entities_dict[key] = value\n",
    "        key+=1"
   ]
  },
  {
   "cell_type": "markdown",
   "metadata": {
    "id": "fqccvDCzivUN"
   },
   "source": [
    "### Write dictionaries to files\n",
    "In order for the model to use the data, the data will have to be written to txt files in a specific manner declared by the NicelyPrintingDict class"
   ]
  },
  {
   "cell_type": "code",
   "execution_count": 48,
   "metadata": {
    "id": "fRQRjKsk1G_u"
   },
   "outputs": [],
   "source": [
    "# function that exports to txt file the dictionary in a form that the model accepts\n",
    "class NicelyPrintingDict():\n",
    "    def __init__(self, some_dictionary):\n",
    "        self.some_dictionary = some_dictionary\n",
    "\n",
    "    def __str__(self):\n",
    "        s = ''\n",
    "        for key, value in self.some_dictionary.items():\n",
    "            \n",
    "            if key != len(self.some_dictionary)-1:\n",
    "              s += str(key) + ': ' + str(value) + '\\n' \n",
    "            else:\n",
    "              \n",
    "              s += str(key) + ': ' + str(value)\n",
    "        return s.strip()\n",
    "\n",
    "nice_entities_dict = NicelyPrintingDict(entities_dict)\n",
    "nice_relations_dict = NicelyPrintingDict(relations_dict)\n",
    "        "
   ]
  },
  {
   "cell_type": "code",
   "execution_count": 49,
   "metadata": {
    "colab": {
     "base_uri": "https://localhost:8080/"
    },
    "id": "02pzcEDosXu2",
    "outputId": "b3f053af-eac6-49f0-fbe8-32ce97a3cbed"
   },
   "outputs": [
    {
     "name": "stdout",
     "output_type": "stream",
     "text": [
      "/content\n"
     ]
    }
   ],
   "source": [
    "!pwd"
   ]
  },
  {
   "cell_type": "markdown",
   "metadata": {
    "id": "-2UA7Z5hTekE"
   },
   "source": [
    "Create directories and write dictionaries (as txt files)"
   ]
  },
  {
   "cell_type": "code",
   "execution_count": 50,
   "metadata": {
    "id": "4iclUxfPSxQt"
   },
   "outputs": [],
   "source": [
    "root='amazon-fine-food-reviews'\n",
    "raw_dir=os.path.join(root, 'raw')\n",
    "isExist = os.path.exists(raw_dir)\n",
    "\n",
    "if not isExist:\n",
    "  \n",
    "  # Create a new directory because it does not exist \n",
    "  os.makedirs(raw_dir)"
   ]
  },
  {
   "cell_type": "code",
   "execution_count": 51,
   "metadata": {
    "id": "ZfQvBP4dsRuZ"
   },
   "outputs": [],
   "source": [
    "with open(os.path.join(raw_dir, 'relations.dict'), 'w') as f:\n",
    "  print(nice_relations_dict, file=f)\n",
    "\n",
    "with open(os.path.join(raw_dir, 'entities.dict'), 'w') as f:\n",
    "  print(nice_entities_dict, file=f)"
   ]
  },
  {
   "cell_type": "markdown",
   "metadata": {
    "id": "h7kFRLHwLN83"
   },
   "source": [
    "Split the knowledge graph into train, test and validaton sets (70-15-15)"
   ]
  },
  {
   "cell_type": "code",
   "execution_count": 52,
   "metadata": {
    "id": "vMgUfNzgJTyG"
   },
   "outputs": [],
   "source": [
    "train=kg_df.sample(frac=0.7,random_state=200) #random state is a seed value\n",
    "remain=kg_df.drop(train.index)\n",
    "test = remain.sample(frac=0.5,random_state=200)\n",
    "valid = remain.drop(test.index)"
   ]
  },
  {
   "cell_type": "code",
   "execution_count": 53,
   "metadata": {
    "colab": {
     "base_uri": "https://localhost:8080/"
    },
    "id": "twzWMDLXa5PD",
    "outputId": "c3396b6a-a985-4dc2-f17f-6a93da24ac10"
   },
   "outputs": [
    {
     "name": "stdout",
     "output_type": "stream",
     "text": [
      "(10401, 3)\n",
      "(2228, 3)\n",
      "(2229, 3)\n"
     ]
    }
   ],
   "source": [
    "print(train.shape)\n",
    "print(test.shape)\n",
    "print(valid.shape)"
   ]
  },
  {
   "cell_type": "markdown",
   "metadata": {
    "id": "okztOlCO1CgT"
   },
   "source": [
    "Write train, test and validaton sets to txt files"
   ]
  },
  {
   "cell_type": "code",
   "execution_count": 54,
   "metadata": {
    "id": "BYqHY44tXPC3"
   },
   "outputs": [],
   "source": [
    "with open(os.path.join(raw_dir, 'train.txt'), 'w') as f:\n",
    "    for line in train.values:\n",
    "        line = \"|\".join(map(str, line))\n",
    "        f.write(f\"{line}\\n\")\n",
    "        \n",
    "with open(os.path.join(raw_dir, 'test.txt'), 'w') as f:\n",
    "    for line in test.values:\n",
    "        line = \"|\".join(map(str, line))\n",
    "        f.write(f\"{line}\\n\")\n",
    "\n",
    "with open(os.path.join(raw_dir, 'valid.txt'), 'w') as f:\n",
    "    for line in valid.values:\n",
    "        line = \"|\".join(map(str, line))\n",
    "        f.write(f\"{line}\\n\")"
   ]
  },
  {
   "cell_type": "markdown",
   "metadata": {
    "id": "bAM5KYFLXCKm"
   },
   "source": [
    "<br>\n",
    "<br>"
   ]
  },
  {
   "cell_type": "markdown",
   "metadata": {
    "id": "R3-MnWJn5LjI"
   },
   "source": [
    "## 7. Process Amazon dataset with PyTorch Geometric"
   ]
  },
  {
   "cell_type": "code",
   "execution_count": 55,
   "metadata": {
    "colab": {
     "base_uri": "https://localhost:8080/"
    },
    "id": "SDzdNHDhnUOc",
    "outputId": "b0d8b870-32a2-4bd2-c4fe-01e378a2db3a"
   },
   "outputs": [
    {
     "name": "stdout",
     "output_type": "stream",
     "text": [
      "\u001b[K     |████████████████████████████████| 7.9 MB 4.5 MB/s \n",
      "\u001b[K     |████████████████████████████████| 3.5 MB 4.0 MB/s \n",
      "\u001b[?25h  Building wheel for torch-geometric (setup.py) ... \u001b[?25l\u001b[?25hdone\n"
     ]
    }
   ],
   "source": [
    "import torch\n",
    "os.environ['TORCH'] = '1.12.0+cu113'\n",
    "\n",
    "!pip install -q torch-scatter -f https://data.pyg.org/whl/torch-${TORCH}.html\n",
    "!pip install -q torch-sparse -f https://data.pyg.org/whl/torch-${TORCH}.html\n",
    "!pip install -q git+https://github.com/pyg-team/pytorch_geometric.git"
   ]
  },
  {
   "cell_type": "code",
   "execution_count": 56,
   "metadata": {
    "colab": {
     "base_uri": "https://localhost:8080/",
     "height": 0
    },
    "id": "C7G7-h93nW4E",
    "outputId": "ea4b1b2f-09eb-453b-e430-b0bcaa78e0a6"
   },
   "outputs": [
    {
     "data": {
      "application/vnd.google.colaboratory.intrinsic+json": {
       "type": "string"
      },
      "text/plain": [
       "'2.1.0'"
      ]
     },
     "execution_count": 56,
     "metadata": {},
     "output_type": "execute_result"
    }
   ],
   "source": [
    "import torch_geometric\n",
    "import math\n",
    "torch_geometric.__version__"
   ]
  },
  {
   "cell_type": "code",
   "execution_count": 57,
   "metadata": {
    "colab": {
     "base_uri": "https://localhost:8080/"
    },
    "id": "E_IrmtS5lc5r",
    "outputId": "ee60304f-f38c-404d-8986-27daa6227c4c"
   },
   "outputs": [
    {
     "name": "stderr",
     "output_type": "stream",
     "text": [
      "Processing...\n",
      "Done!\n"
     ]
    }
   ],
   "source": [
    "class AmazonDataset(torch_geometric.data.InMemoryDataset):\n",
    "  \n",
    "  def __init__(self, root, transform=None, pre_transform=None):\n",
    "    super().__init__(root, transform, pre_transform)\n",
    "    self.data, self.slices = torch.load(self.processed_paths[0])\n",
    "\n",
    "  @property\n",
    "  def raw_file_names(self):\n",
    "    return ['train.txt', 'valid.txt', 'test.txt', \n",
    "            'entities.dict', 'relations.dict']\n",
    "  \n",
    "  @property\n",
    "  def processed_file_names(self):\n",
    "    return ['data.pt']\n",
    "\n",
    "  @property\n",
    "  def raw_dir(self):\n",
    "    return os.path.join(self.root, 'raw')\n",
    "\n",
    "  def process(self):\n",
    "    with open(os.path.join(self.raw_dir, 'entities.dict'), 'r') as f:\n",
    "      lines = [row.split(': ') for row in f.read().split('\\n')[:-1]]\n",
    "      entities_dict = {key: int(value) for value, key in lines}\n",
    "\n",
    "    with open(os.path.join(self.raw_dir, 'relations.dict'), 'r') as f:\n",
    "      lines = [row.split(': ') for row in f.read().split('\\n')[:-1]]\n",
    "      relations_dict = {key: int(value) for value, key in lines}\n",
    "\n",
    "    kwargs = {}\n",
    "    for split in ['train', 'valid', 'test']:\n",
    "      with open(os.path.join(self.raw_dir, f'{split}.txt'), 'r') as f:\n",
    "        lines = [row.split('|') for row in f.read().split('\\n')[:-1]]\n",
    "        heads = [entities_dict[row[0]] for row in lines]\n",
    "        relations = [relations_dict[row[1]] for row in lines]\n",
    "        tails = [entities_dict[row[2]] for row in lines]\n",
    "        kwargs[f'{split}_edge_index'] = torch.tensor([heads, tails])\n",
    "        kwargs[f'{split}_edge_type'] = torch.tensor(relations)\n",
    "    \n",
    "    _data = torch_geometric.data.Data(num_entities=len(entities_dict), \n",
    "                                      num_relations=len(relations_dict),\n",
    "                                      **kwargs)\n",
    "    if self.pre_transform is not None:\n",
    "      _data = self.pre_transform(_data)\n",
    "\n",
    "    data, slices = self.collate([_data])\n",
    "\n",
    "    torch.save((data, slices), self.processed_paths[0])\n",
    "\n",
    "Amazon_dset = AmazonDataset(root=root)\n",
    "data = Amazon_dset[0]"
   ]
  },
  {
   "cell_type": "code",
   "execution_count": 58,
   "metadata": {
    "colab": {
     "base_uri": "https://localhost:8080/"
    },
    "id": "DS-dsov82vLu",
    "outputId": "77dc1a0f-1145-44aa-e72a-67c9d37519fe"
   },
   "outputs": [
    {
     "data": {
      "text/plain": [
       "Data(num_entities=5906, num_relations=460, train_edge_index=[2, 10401], train_edge_type=[10401], valid_edge_index=[2, 2229], valid_edge_type=[2229], test_edge_index=[2, 2228], test_edge_type=[2228])"
      ]
     },
     "execution_count": 58,
     "metadata": {},
     "output_type": "execute_result"
    }
   ],
   "source": [
    "Amazon_dset.data"
   ]
  },
  {
   "cell_type": "code",
   "execution_count": 59,
   "metadata": {
    "colab": {
     "base_uri": "https://localhost:8080/"
    },
    "id": "J0uFmZnBz04B",
    "outputId": "4612b570-cbb7-402c-ccaa-f589eb695a4d"
   },
   "outputs": [
    {
     "name": "stdout",
     "output_type": "stream",
     "text": [
      "The graph has a total of 5906 entities and 460 relations.\n",
      "The train split has 10401 relation triples.\n",
      "The valid split has 2229 relation triples.\n",
      "The test split has 2228 relation triples.\n"
     ]
    }
   ],
   "source": [
    "print(f'The graph has a total of {data.num_entities} entities and {data.num_relations} relations.')\n",
    "print(f'The train split has {data.train_edge_type.size()[0]} relation triples.')\n",
    "print(f'The valid split has {data.valid_edge_type.size()[0]} relation triples.')\n",
    "print(f'The test split has {data.test_edge_type.size()[0]} relation triples.')"
   ]
  },
  {
   "cell_type": "markdown",
   "metadata": {
    "id": "mnrvSbI38eEf"
   },
   "source": [
    "## 8. TransE Implementation"
   ]
  },
  {
   "cell_type": "code",
   "execution_count": 60,
   "metadata": {
    "id": "odOBYCJA1yJO"
   },
   "outputs": [],
   "source": [
    "class TransE(torch.nn.Module):\n",
    "  \"\"\"\n",
    "  Adapted from: https://medium.com/stanford-cs224w/knowledge-graph-embeddings-simplistic-and-powerful-representations-ed43a1a73c7c\n",
    "  \"\"\"\n",
    "\n",
    "  def __init__(self, num_entities, num_relations, device, embedding_dim=50, \n",
    "               margin=1.0, visualize=False):\n",
    "    super(TransE, self).__init__()\n",
    "    self.device = device\n",
    "    self.num_entities = num_entities\n",
    "    self.num_relations = num_relations\n",
    "    self.embedding_dim = embedding_dim\n",
    "\n",
    "    self.entities_emb = self.init_emb(num_entities, embedding_dim, emb_type='entity')\n",
    "    self.relations_emb = self.init_emb(num_relations, embedding_dim, emb_type='relation')\n",
    "\n",
    "    self.criterion = torch.nn.MarginRankingLoss(margin=margin, reduction='none')\n",
    "\n",
    "    self.visualize = visualize\n",
    "    # used for visualization\n",
    "    if visualize:\n",
    "      self.pca = PCA(n_components=2)\n",
    "\n",
    "\n",
    "  def init_emb(self, size, dim, emb_type='relation'):\n",
    "    emb = torch.nn.Embedding(num_embeddings=size, \n",
    "                             embedding_dim=dim)\n",
    "    uniform_max = 6 / np.sqrt(dim) # 6 / sqrt(k)\n",
    "    emb.weight.data.uniform_(-uniform_max, uniform_max)\n",
    "    if emb_type == 'relation':\n",
    "      emb_norm = torch.norm(emb.weight.data, dim=1, keepdim=True)\n",
    "      emb.weight.data = emb.weight.data / emb_norm # l = l / ||l||\n",
    "    return emb\n",
    "\n",
    "  def forward(self, edge_index, negative_edge_index, edge_type):\n",
    "    positive_distance = self.distance(edge_index, edge_type)\n",
    "    negative_distance = self.distance(negative_edge_index, edge_type)\n",
    "    return self.loss(positive_distance, negative_distance)\n",
    "  \n",
    "  def predict(self, edge_index, edge_type):\n",
    "    return self.distance(edge_index, edge_type)\n",
    "\n",
    "  def distance(self, edge_index, edge_type):\n",
    "    heads = edge_index[0,:]\n",
    "    tails = edge_index[1,:]\n",
    "    return (self.entities_emb(heads) + self.relations_emb(edge_type) - \\\n",
    "            self.entities_emb(tails)).norm(p=2., dim=1, keepdim=True) # l2 norm of h + l - t\n",
    "  \n",
    "  def loss(self, positive_distance, negative_distance):\n",
    "    y = torch.ones(positive_distance.shape[0],1).neg()\n",
    "    return self.criterion(positive_distance, negative_distance, y).sum()\n"
   ]
  },
  {
   "cell_type": "markdown",
   "metadata": {
    "id": "z9QQm2Fe8-AL"
   },
   "source": [
    "## 9. Training and Testing"
   ]
  },
  {
   "cell_type": "markdown",
   "metadata": {
    "id": "pjg2pZ4z9SNM"
   },
   "source": [
    "Because the knowledge graph contains only true positive triples, corrupted triples will be created by either replacing the head or tail with a random entity"
   ]
  },
  {
   "cell_type": "code",
   "execution_count": 61,
   "metadata": {
    "id": "hIK_ueYA3vrP"
   },
   "outputs": [],
   "source": [
    "def create_corrupted_edge_index(edge_index, edge_type, num_entities):\n",
    "  corrupt_head_or_tail = torch.randint(high=2, size=edge_type.size(),\n",
    "                                       device=device)\n",
    "  random_entities = torch.randint(high=num_entities, \n",
    "                                  size=edge_type.size(), device=device)\n",
    "  # corrupt when 1, otherwise regular head\n",
    "  heads = torch.where(corrupt_head_or_tail == 1, random_entities, \n",
    "                      edge_index[0,:])\n",
    "  # corrupt when 0, otherwise regular tail\n",
    "  tails = torch.where(corrupt_head_or_tail == 0, random_entities, \n",
    "                      edge_index[1,:])\n",
    "  return torch.stack([heads, tails], dim=0)"
   ]
  },
  {
   "cell_type": "code",
   "execution_count": 62,
   "metadata": {
    "id": "SbJLKlky5VZz"
   },
   "outputs": [],
   "source": [
    "def train(model, data, optimizer, device, epochs=10, batch_size=128,\n",
    "          eval_batch_size=256, valid_freq=5):\n",
    "  train_edge_index = data.train_edge_index.to(device)\n",
    "  train_edge_type = data.train_edge_type.to(device)\n",
    "\n",
    "  best_valid_score = 0\n",
    "  valid_scores = None\n",
    "  test_scores = None\n",
    "\n",
    "  # for learning curve plot\n",
    "  train_losses = []\n",
    "  mrr_score_val = []\n",
    "  mr_score_val = []\n",
    "  hits_at_10_val = []\n",
    "  hits_at_20_val = []\n",
    "\n",
    "  for epoch in range(epochs):\n",
    "    model.train()\n",
    "    # e = e / ||e||\n",
    "    entities_norm = torch.norm(model.entities_emb.weight.data, dim=1, keepdim=True)\n",
    "    model.entities_emb.weight.data = model.entities_emb.weight.data / entities_norm\n",
    "\n",
    "    # shuffle train set each batch\n",
    "    num_triples = data.train_edge_type.size()[0]\n",
    "    shuffled_triples_order = np.arange(num_triples)\n",
    "    np.random.shuffle(shuffled_triples_order)\n",
    "    shuffled_edge_index = train_edge_index[:, shuffled_triples_order]\n",
    "    shuffled_edge_type = train_edge_type[shuffled_triples_order]\n",
    "\n",
    "    negative_edge_index = create_corrupted_edge_index(shuffled_edge_index,\n",
    "                                                      shuffled_edge_type,\n",
    "                                                      data.num_entities)\n",
    "    \n",
    "    total_loss = 0\n",
    "    total_size = 0\n",
    "    \n",
    "\n",
    "    for batch_idx in range(math.ceil(num_triples / batch_size)):\n",
    "      batch_start = batch_idx * batch_size\n",
    "      batch_end = (batch_idx + 1) * batch_size\n",
    "      batch_edge_index = shuffled_edge_index[:,batch_start:batch_end]\n",
    "      batch_negative_edge_index = negative_edge_index[:,batch_start:batch_end]\n",
    "      batch_edge_type = shuffled_edge_type[batch_start:batch_end]\n",
    "      loss = model(batch_edge_index, batch_negative_edge_index, batch_edge_type)\n",
    "      total_loss += loss.item()\n",
    "      optimizer.zero_grad()\n",
    "      loss.backward()\n",
    "      optimizer.step()\n",
    "      total_size += batch_edge_type.size()[0]\n",
    "      if model.visualize  and epoch == 0 \\\n",
    "      and batch_idx % 100 == 0:\n",
    "        visualize_emb(model, batch_idx)\n",
    "    print(f'Epoch {epoch}, train loss equals {total_loss / total_size}')\n",
    "    train_losses.append(total_loss / total_size)\n",
    "\n",
    "    if (epoch + 1) % valid_freq == 0:\n",
    "      mrr_score, mr_score, hits_at_10, hits_at_20 = eval(model, data.valid_edge_index.to(device),\n",
    "                                             data.valid_edge_type.to(device),\n",
    "                                             data.num_entities, device)\n",
    "      mrr_score_val.append(mrr_score)\n",
    "      mr_score_val.append(mr_score)\n",
    "      hits_at_10_val.append(hits_at_10)\n",
    "      hits_at_20_val.append(hits_at_20)\n",
    "      print(f'Validation score equals {mrr_score}, {mr_score}, {hits_at_10}, {hits_at_20}')\n",
    "      if hits_at_10 > best_valid_score:\n",
    "        valid_scores = (mrr_score, mr_score, hits_at_10, hits_at_20)\n",
    "        test_mmr_score, test_mr_score, test_hits_at_10, test_hits_at_20 = \\\n",
    "                                        eval(model, data.valid_edge_index.to(device),\n",
    "                                             data.valid_edge_type.to(device),\n",
    "                                             data.num_entities, device)\n",
    "        test_scores = (test_mmr_score, test_mr_score, test_hits_at_10, test_hits_at_20)\n",
    "        best_valid_score = hits_at_10\n",
    "    # break\n",
    "  print(f'Test scores from best model (mmr, mr, h@10, h@20): {test_scores}')\n",
    "\n",
    "  return train_losses, mrr_score_val, mr_score_val, hits_at_10_val, hits_at_20_val\n"
   ]
  },
  {
   "cell_type": "markdown",
   "metadata": {
    "id": "M0UdTY4s9gB-"
   },
   "source": [
    "Implement metrics"
   ]
  },
  {
   "cell_type": "code",
   "execution_count": 63,
   "metadata": {
    "id": "ooMeVuNi5b3f"
   },
   "outputs": [],
   "source": [
    "def mrr(predictions, gt):\n",
    "  \"\"\"MRR score adopted from \n",
    "  https://github.com/mklimasz/TransE-PyTorch/blob/master/metric.py\n",
    "  \"\"\"\n",
    "  indices = predictions.argsort()\n",
    "  return (1.0 / (indices == gt).nonzero()[:, 1].float().add(1.0)).sum().item()\n",
    "\n",
    "def mr(predictions, gt):\n",
    "  indices = predictions.argsort()\n",
    "  return ((indices == gt).nonzero()[:, 1].float().add(1.0)).sum().item()\n",
    "\n",
    "def hit_at_k(predictions, gt, device, k):\n",
    "  \"\"\"Hit @ k score adopted from \n",
    "  https://github.com/mklimasz/TransE-PyTorch/blob/master/metric.py\n",
    "  \"\"\"\n",
    "  zero_tensor = torch.tensor([0], device=device)\n",
    "  one_tensor = torch.tensor([1], device=device)\n",
    "  _, indices = predictions.topk(k=k, largest=False)\n",
    "  return torch.where(indices == gt, one_tensor, zero_tensor).sum().item()"
   ]
  },
  {
   "cell_type": "code",
   "execution_count": 64,
   "metadata": {
    "id": "DxC6gq425nDk"
   },
   "outputs": [],
   "source": [
    "def eval(model, edge_index, edge_type, num_entities, device, eval_batch_size=64):\n",
    "  model.eval()\n",
    "  num_triples = edge_type.size()[0]\n",
    "  mrr_score = 0\n",
    "  mr_score = 0\n",
    "  hits_at_10 = 0\n",
    "  hits_at_20 = 0\n",
    "  num_predictions = 0\n",
    "\n",
    "  for batch_idx in range(math.ceil(num_triples / eval_batch_size)):\n",
    "    batch_start = batch_idx * eval_batch_size\n",
    "    batch_end = (batch_idx + 1) * eval_batch_size\n",
    "    batch_edge_index = edge_index[:,batch_start:batch_end]\n",
    "    batch_edge_type = edge_type[batch_start:batch_end]\n",
    "    batch_size = batch_edge_type.size()[0] # can be different on last batch\n",
    "\n",
    "    all_entities = torch.arange(end=num_entities, \n",
    "                                device=device).unsqueeze(0).repeat(batch_size, 1)\n",
    "    head_repeated = batch_edge_index[0,:].reshape(-1, 1).repeat(1, num_entities)\n",
    "    relation_repeated = batch_edge_type.reshape(-1, 1).repeat(1, num_entities)\n",
    "\n",
    "    head_squeezed = head_repeated.reshape(-1)\n",
    "    relation_squeezed = relation_repeated.reshape(-1)\n",
    "    all_entities_squeezed = all_entities.reshape(-1)\n",
    "\n",
    "    entity_index_replaced_tail = torch.stack((head_squeezed,all_entities_squeezed))\n",
    "    predictions = model.predict(entity_index_replaced_tail, relation_squeezed)\n",
    "    predictions = predictions.reshape(batch_size, -1)\n",
    "    gt = batch_edge_index[1,:].reshape(-1, 1)\n",
    "\n",
    "    mrr_score += mrr(predictions, gt)\n",
    "    mr_score += mr(predictions, gt)\n",
    "    hits_at_10 += hit_at_k(predictions, gt, device=device, k=10)\n",
    "    hits_at_20 += hit_at_k(predictions, gt, device=device, k=20)\n",
    "    num_predictions += predictions.size()[0]\n",
    "\n",
    "  mrr_score = mrr_score / num_predictions\n",
    "  mr_score = mr_score / num_predictions\n",
    "  hits_at_10 = hits_at_10 / num_predictions\n",
    "  hits_at_20 = hits_at_20 / num_predictions\n",
    "  return mrr_score, mr_score, hits_at_10, hits_at_20"
   ]
  },
  {
   "cell_type": "markdown",
   "metadata": {
    "id": "hMik1f9HAsGA"
   },
   "source": [
    "### Visualize embeddings"
   ]
  },
  {
   "cell_type": "code",
   "execution_count": 65,
   "metadata": {
    "id": "itok0Cc5ArjB"
   },
   "outputs": [],
   "source": [
    "from sklearn.decomposition import PCA\n",
    "import matplotlib.pyplot as plt\n",
    "from matplotlib import cm\n",
    "\n",
    "def visualize_emb(model, idx):\n",
    "  \"\"\"\n",
    "  From: https://medium.com/stanford-cs224w/knowledge-graph-embeddings-simplistic-and-powerful-representations-ed43a1a73c7c\n",
    "  \"\"\"\n",
    "  if idx == 0:\n",
    "    out = model.pca.fit_transform(model.relations_emb.weight.data)\n",
    "  else:\n",
    "    out = model.pca.transform(model.relations_emb.weight.data)\n",
    "  cmap = cm.get_cmap('tab20')\n",
    "  fig, ax = plt.subplots(figsize=(8,8))\n",
    "  for entity_id in range(np.shape(out)[0]):\n",
    "    ax.scatter(out[entity_id,0], out[entity_id,1], color=cmap(entity_id % 20))\n",
    "  plt.savefig('visualize_relations_emb_' + str(idx) + '.png')\n",
    "  plt.show()"
   ]
  },
  {
   "cell_type": "markdown",
   "metadata": {
    "id": "iPDcj8wkA1Ix"
   },
   "source": [
    "### Start training"
   ]
  },
  {
   "cell_type": "code",
   "execution_count": 66,
   "metadata": {
    "colab": {
     "base_uri": "https://localhost:8080/",
     "height": 1000
    },
    "id": "dsUSLD41A0hh",
    "outputId": "c170e199-7ec0-4ece-e42d-8a637ef7e851"
   },
   "outputs": [
    {
     "data": {
      "image/png": "[encoded data removed]",
      "text/plain": [
       "<Figure size 576x576 with 1 Axes>"
      ]
     },
     "metadata": {
      "needs_background": "light"
     },
     "output_type": "display_data"
    },
    {
     "name": "stdout",
     "output_type": "stream",
     "text": [
      "Epoch 0, train loss equals 0.9789468394645234\n",
      "Epoch 1, train loss equals 0.9562416676316923\n",
      "Epoch 2, train loss equals 0.9335558205175349\n",
      "Epoch 3, train loss equals 0.9128345401112179\n",
      "Epoch 4, train loss equals 0.8908284875638507\n",
      "Validation score equals 0.03412875668143627, 2116.477792732167, 0.07581875280394795, 0.09376401973979363\n",
      "Epoch 5, train loss equals 0.8636778448306761\n",
      "Epoch 6, train loss equals 0.8428648913918683\n",
      "Epoch 7, train loss equals 0.8198882463218822\n",
      "Epoch 8, train loss equals 0.8015639053240566\n",
      "Epoch 9, train loss equals 0.7847505682604254\n",
      "Validation score equals 0.04609428012568943, 1863.6855091969494, 0.10139075818752805, 0.14849708389412292\n",
      "Epoch 10, train loss equals 0.7659117610004588\n",
      "Epoch 11, train loss equals 0.7523927759200424\n",
      "Epoch 12, train loss equals 0.7291935054330502\n",
      "Epoch 13, train loss equals 0.7213868169690104\n",
      "Epoch 14, train loss equals 0.7027282621319301\n",
      "Validation score equals 0.05786539043958757, 1738.8425302826379, 0.11754149842978914, 0.16644235082996858\n",
      "Epoch 15, train loss equals 0.6933995048743741\n",
      "Epoch 16, train loss equals 0.6772518816297759\n",
      "Epoch 17, train loss equals 0.670636240054456\n",
      "Epoch 18, train loss equals 0.6542819382284549\n",
      "Epoch 19, train loss equals 0.6497464531626269\n",
      "Validation score equals 0.06325250783807336, 1653.0269179004038, 0.1278600269179004, 0.18349035441902198\n",
      "Epoch 20, train loss equals 0.634567160065868\n",
      "Epoch 21, train loss equals 0.6281119912258193\n",
      "Epoch 22, train loss equals 0.6181523125282378\n",
      "Epoch 23, train loss equals 0.6125555617020069\n",
      "Epoch 24, train loss equals 0.6027783554410169\n",
      "Validation score equals 0.06929657570499645, 1584.2960969044414, 0.1386271870794078, 0.19066846119336026\n",
      "Epoch 25, train loss equals 0.5984265549620027\n",
      "Epoch 26, train loss equals 0.5889189631855725\n",
      "Epoch 27, train loss equals 0.5810415500655173\n",
      "Epoch 28, train loss equals 0.5785500755929888\n",
      "Epoch 29, train loss equals 0.5684588718111727\n",
      "Validation score equals 0.07599997948295281, 1490.0269179004038, 0.14984297891431134, 0.2032301480484522\n",
      "Epoch 30, train loss equals 0.5602634563066445\n",
      "Epoch 31, train loss equals 0.5530184692699696\n",
      "Epoch 32, train loss equals 0.5508631920885574\n",
      "Epoch 33, train loss equals 0.545846402696687\n",
      "Epoch 34, train loss equals 0.533722037524515\n",
      "Validation score equals 0.08075939870939601, 1436.4831763122477, 0.1525347689546882, 0.20367877972184836\n",
      "Epoch 35, train loss equals 0.5297136999027006\n",
      "Epoch 36, train loss equals 0.5233939014688247\n",
      "Epoch 37, train loss equals 0.5221905641837277\n",
      "Epoch 38, train loss equals 0.5157962296974337\n",
      "Epoch 39, train loss equals 0.5089905977868058\n",
      "Validation score equals 0.0861754998758589, 1386.3876177658142, 0.16644235082996858, 0.21624046657694032\n",
      "Epoch 40, train loss equals 0.503307584042435\n",
      "Epoch 41, train loss equals 0.49711737143581913\n",
      "Epoch 42, train loss equals 0.49873337948761265\n",
      "Epoch 43, train loss equals 0.49356194741794\n",
      "Epoch 44, train loss equals 0.4899252909970345\n",
      "Validation score equals 0.08740506898453013, 1386.5311799013011, 0.16778824585015703, 0.22521310004486317\n",
      "Epoch 45, train loss equals 0.48654872432899826\n",
      "Epoch 46, train loss equals 0.47580121904711875\n",
      "Epoch 47, train loss equals 0.47597664854249383\n",
      "Epoch 48, train loss equals 0.4735923202642282\n",
      "Epoch 49, train loss equals 0.4688814632847451\n",
      "Validation score equals 0.09470095405561499, 1350.257065948856, 0.17765814266487215, 0.23149394347240915\n",
      "Epoch 50, train loss equals 0.45622295989931555\n",
      "Epoch 51, train loss equals 0.4521243912636598\n",
      "Epoch 52, train loss equals 0.4508602122895569\n",
      "Epoch 53, train loss equals 0.4505899708244207\n",
      "Epoch 54, train loss equals 0.4459413241083926\n",
      "Validation score equals 0.08892702489436181, 1321.4629878869448, 0.1825930910722297, 0.240466576940332\n",
      "Epoch 55, train loss equals 0.4450143833892092\n",
      "Epoch 56, train loss equals 0.4346661597487445\n",
      "Epoch 57, train loss equals 0.43717556845143535\n",
      "Epoch 58, train loss equals 0.4359895201694873\n",
      "Epoch 59, train loss equals 0.42208726785925876\n",
      "Validation score equals 0.10269214198855661, 1282.4715118887393, 0.1911170928667564, 0.2480933153880664\n",
      "Epoch 60, train loss equals 0.4242277617592523\n",
      "Epoch 61, train loss equals 0.42123199951051576\n",
      "Epoch 62, train loss equals 0.4112230273762892\n",
      "Epoch 63, train loss equals 0.4157153317451752\n",
      "Epoch 64, train loss equals 0.40691055649576846\n",
      "Validation score equals 0.10468017621765548, 1265.935397039031, 0.19829519964109465, 0.2534768954688201\n",
      "Epoch 65, train loss equals 0.4018214370365178\n",
      "Epoch 66, train loss equals 0.40196202445656\n",
      "Epoch 67, train loss equals 0.39192003727463526\n",
      "Epoch 68, train loss equals 0.39621419469251873\n",
      "Epoch 69, train loss equals 0.3884772180697171\n",
      "Validation score equals 0.10496856461409872, 1247.0704351727231, 0.1987438313144908, 0.25527142216240467\n",
      "Epoch 70, train loss equals 0.3808068404827149\n",
      "Epoch 71, train loss equals 0.38359294429603374\n",
      "Epoch 72, train loss equals 0.38142459670599466\n",
      "Epoch 73, train loss equals 0.38031930935381697\n",
      "Epoch 74, train loss equals 0.37220060837955365\n",
      "Validation score equals 0.11253990331215942, 1219.702108568865, 0.2041274113952445, 0.27052489905787347\n",
      "Epoch 75, train loss equals 0.36909927178914587\n",
      "Epoch 76, train loss equals 0.3686053310262619\n",
      "Epoch 77, train loss equals 0.36336463722468865\n",
      "Epoch 78, train loss equals 0.35828682643016385\n",
      "Epoch 79, train loss equals 0.35813831281299807\n",
      "Validation score equals 0.11421284145065999, 1203.6137281292058, 0.2148945715567519, 0.27231942575145807\n",
      "Epoch 80, train loss equals 0.35286392206045863\n",
      "Epoch 81, train loss equals 0.35445991175390873\n",
      "Epoch 82, train loss equals 0.3491451786797891\n",
      "Epoch 83, train loss equals 0.34626696960431613\n",
      "Epoch 84, train loss equals 0.34620088000169635\n",
      "Validation score equals 0.11930127441214573, 1186.7913862718708, 0.22117541498429788, 0.27635711081202335\n",
      "Epoch 85, train loss equals 0.3384304182333002\n",
      "Epoch 86, train loss equals 0.3382771571500177\n",
      "Epoch 87, train loss equals 0.34254102717912055\n",
      "Epoch 88, train loss equals 0.33263209058440496\n",
      "Epoch 89, train loss equals 0.3361993460870227\n",
      "Validation score equals 0.11911522641530642, 1180.0933153880665, 0.21624046657694032, 0.2790489008524002\n",
      "Epoch 90, train loss equals 0.3330120127563946\n",
      "Epoch 91, train loss equals 0.32703578170704484\n",
      "Epoch 92, train loss equals 0.32585630452629466\n",
      "Epoch 93, train loss equals 0.32662262653871266\n",
      "Epoch 94, train loss equals 0.31665812546376393\n",
      "Validation score equals 0.12263989512724639, 1163.5612382234185, 0.22386720502467475, 0.2853297442799462\n",
      "Epoch 95, train loss equals 0.3196443161268943\n",
      "Epoch 96, train loss equals 0.31834723607655524\n",
      "Epoch 97, train loss equals 0.3203171895176341\n",
      "Epoch 98, train loss equals 0.31015058183151994\n",
      "Epoch 99, train loss equals 0.3106109498842509\n",
      "Validation score equals 0.12711856535273638, 1158.812920592194, 0.2243158366980709, 0.2853297442799462\n",
      "Epoch 100, train loss equals 0.3043528933580558\n",
      "Epoch 101, train loss equals 0.3072166863731118\n",
      "Epoch 102, train loss equals 0.30432915877819106\n",
      "Epoch 103, train loss equals 0.3023118400628745\n",
      "Epoch 104, train loss equals 0.2995818990570412\n",
      "Validation score equals 0.13254165595932998, 1135.3651861821445, 0.23283983849259757, 0.29475100942126514\n",
      "Epoch 105, train loss equals 0.30240425945715127\n",
      "Epoch 106, train loss equals 0.3005799768567257\n",
      "Epoch 107, train loss equals 0.29917667760446476\n",
      "Epoch 108, train loss equals 0.29249838665922884\n",
      "Epoch 109, train loss equals 0.29402130918426705\n",
      "Validation score equals 0.13038785984934365, 1122.5513683266038, 0.23283983849259757, 0.2951996410946613\n",
      "Epoch 110, train loss equals 0.29367277482623905\n",
      "Epoch 111, train loss equals 0.2877342682390898\n",
      "Epoch 112, train loss equals 0.2885890273380344\n",
      "Epoch 113, train loss equals 0.29101959942235545\n",
      "Epoch 114, train loss equals 0.28818879284751886\n",
      "Validation score equals 0.13361062646286537, 1121.4822790489009, 0.23822341857335128, 0.2920592193808883\n",
      "Epoch 115, train loss equals 0.2878928945083112\n",
      "Epoch 116, train loss equals 0.2856107327058079\n",
      "Epoch 117, train loss equals 0.2810544328567627\n",
      "Epoch 118, train loss equals 0.28295144126135824\n",
      "Epoch 119, train loss equals 0.28255756744202853\n",
      "Validation score equals 0.135214555953425, 1117.107671601615, 0.2449528936742934, 0.2983400628084343\n",
      "Epoch 120, train loss equals 0.27435168389253534\n",
      "Epoch 121, train loss equals 0.27804888171561004\n",
      "Epoch 122, train loss equals 0.2787175638356377\n",
      "Epoch 123, train loss equals 0.27366122093673806\n",
      "Epoch 124, train loss equals 0.2739276838307197\n",
      "Validation score equals 0.13937064937114074, 1095.8317631224766, 0.24136384028712426, 0.3032750112157918\n",
      "Epoch 125, train loss equals 0.27033914454727603\n",
      "Epoch 126, train loss equals 0.27017805280851387\n",
      "Epoch 127, train loss equals 0.2678693748072883\n",
      "Epoch 128, train loss equals 0.27147618161636\n",
      "Epoch 129, train loss equals 0.26426086521139514\n",
      "Validation score equals 0.1385051523852958, 1106.0986989681471, 0.24405563032750113, 0.2996859578286227\n",
      "Epoch 130, train loss equals 0.26444829783638146\n",
      "Epoch 131, train loss equals 0.26138829501841276\n",
      "Epoch 132, train loss equals 0.26208927333154375\n",
      "Epoch 133, train loss equals 0.2634270720018376\n",
      "Epoch 134, train loss equals 0.26087677486813216\n",
      "Validation score equals 0.13895986924100853, 1104.233288470166, 0.24629878869448182, 0.2996859578286227\n",
      "Epoch 135, train loss equals 0.2562368215247881\n",
      "Epoch 136, train loss equals 0.2616366894471394\n",
      "Epoch 137, train loss equals 0.2599855024486124\n",
      "Epoch 138, train loss equals 0.2560776424527157\n",
      "Epoch 139, train loss equals 0.2570774212970996\n",
      "Validation score equals 0.14077702206097786, 1095.968147151189, 0.24181247196052041, 0.30058322117541497\n",
      "Test scores from best model (mmr, mr, h@10, h@20): (0.13895986924100853, 1104.233288470166, 0.24629878869448182, 0.2996859578286227)\n"
     ]
    }
   ],
   "source": [
    "lr = 0.01\n",
    "\n",
    "epochs = 140\n",
    "valid_freq = 5\n",
    "\n",
    "device = torch.device('cuda' if torch.cuda.is_available() else 'cpu')\n",
    "model = TransE(data.num_entities, data.num_relations, device, visualize=True).to(device)\n",
    "optimizer = torch.optim.SGD(model.parameters(), lr=lr)\n",
    "train_losses, mrr_score_val, mr_score_val, hits_at_10_val, hits_at_20_val = train(model, data, optimizer, device, epochs=epochs, valid_freq=valid_freq)"
   ]
  },
  {
   "cell_type": "markdown",
   "metadata": {
    "id": "ssYIYjocQjMu"
   },
   "source": [
    "Plot learning curve"
   ]
  },
  {
   "cell_type": "code",
   "execution_count": 67,
   "metadata": {
    "colab": {
     "base_uri": "https://localhost:8080/",
     "height": 621
    },
    "id": "GkcVCAG2NE1D",
    "outputId": "743a304f-e8b7-4b67-99fe-ca254eada449"
   },
   "outputs": [
    {
     "data": {
      "image/png": "[encoded data removed]",
      "text/plain": [
       "<Figure size 1008x720 with 1 Axes>"
      ]
     },
     "metadata": {
      "needs_background": "light"
     },
     "output_type": "display_data"
    }
   ],
   "source": [
    "plt.figure(figsize=(14,10))\n",
    "plt.title(\"Metrics through epochs\")\n",
    "\n",
    "epoch_span = [i for i in range(5,epochs+5,5)]\n",
    "plt.plot(epoch_span, mrr_score_val, '.-', label=\"MRR\")\n",
    "plt.plot(epoch_span, hits_at_10_val, '.-', label=\"Hits@10\")\n",
    "plt.plot(epoch_span, hits_at_20_val, '.-', label=\"Hits@20\")\n",
    "plt.plot([i for i in range(1,epochs+1)], train_losses, '.-', label=\"Train loss\")\n",
    "plt.xlabel(\"Epochs\")\n",
    "plt.ylabel(\"Value\")\n",
    "plt.xticks(epoch_span[:])\n",
    "plt.legend()\n",
    "plt.show()"
   ]
  }
 ],
 "metadata": {
  "colab": {
   "collapsed_sections": [
    "3QiUrbHxkhuW",
    "R3-MnWJn5LjI"
   ],
   "name": "kg_Amazon_products3.ipynb",
   "provenance": []
  },
  "kernelspec": {
   "display_name": "Python 3 (ipykernel)",
   "language": "python",
   "name": "python3"
  },
  "language_info": {
   "codemirror_mode": {
    "name": "ipython",
    "version": 3
   },
   "file_extension": ".py",
   "mimetype": "text/x-python",
   "name": "python",
   "nbconvert_exporter": "python",
   "pygments_lexer": "ipython3",
   "version": "3.8.3"
  }
 },
 "nbformat": 4,
 "nbformat_minor": 1
}
